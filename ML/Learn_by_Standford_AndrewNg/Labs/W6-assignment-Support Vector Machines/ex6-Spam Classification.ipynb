{
 "cells": [
  {
   "cell_type": "markdown",
   "metadata": {},
   "source": [
    "## Spam Classification"
   ]
  },
  {
   "cell_type": "markdown",
   "metadata": {},
   "source": [
    "using dataset:\n",
    "    \n",
    "    ex6data1.mat - Example Dataset 1\n",
    "    \n",
    "    ex6data2.mat - Example Dataset 2\n",
    "    \n",
    "    ex6data3.mat - Example Dataset 3\n",
    "    \n",
    "    spamTrain.mat - Spam training set\n",
    "    \n",
    "    spamTest.mat - Spam test set\n",
    "    \n",
    "    emailSample1.txt - Sample email 1\n",
    "    \n",
    "    emailSample2.txt - Sample email 2\n",
    "    \n",
    "    spamSample1.txt - Sample spam 1\n",
    "    \n",
    "    spamSample2.txt - Sample spam 2\n",
    "    \n",
    "    vocab.txt - Vocabulary list"
   ]
  },
  {
   "cell_type": "code",
   "execution_count": 1,
   "metadata": {},
   "outputs": [],
   "source": [
    "import pandas as pd\n",
    "import numpy as np\n",
    "import matplotlib.pyplot as plt\n",
    "from scipy.io import loadmat\n",
    "\n",
    "%matplotlib inline\n",
    "%config InlineBackend.figure_format='svg'"
   ]
  },
  {
   "cell_type": "markdown",
   "metadata": {},
   "source": [
    "### 2.1 Preprocessing Emails"
   ]
  },
  {
   "cell_type": "markdown",
   "metadata": {},
   "source": [
    "emails form:"
   ]
  },
  {
   "cell_type": "markdown",
   "metadata": {},
   "source": [
    "    Anyone knows how much it costs to host a web portal ?\n",
    "\n",
    "    Well, it depends on how many visitors youre expecting. This can be anywhere from less than 10 bucks a month to a  couple of $100. You should checkout http://www.rackspace.com/ or perhaps Amazon EC2 if youre running something big..\n",
    "\n",
    "    To unsubscribe yourself from this mailing list, send an email to: groupname-unsubscribe@egroups.com"
   ]
  },
  {
   "cell_type": "code",
   "execution_count": 2,
   "metadata": {},
   "outputs": [
    {
     "data": {
      "text/html": [
       "<div>\n",
       "<style scoped>\n",
       "    .dataframe tbody tr th:only-of-type {\n",
       "        vertical-align: middle;\n",
       "    }\n",
       "\n",
       "    .dataframe tbody tr th {\n",
       "        vertical-align: top;\n",
       "    }\n",
       "\n",
       "    .dataframe thead th {\n",
       "        text-align: right;\n",
       "    }\n",
       "</style>\n",
       "<table border=\"1\" class=\"dataframe\">\n",
       "  <thead>\n",
       "    <tr style=\"text-align: right;\">\n",
       "      <th></th>\n",
       "      <th>emailSample1</th>\n",
       "    </tr>\n",
       "  </thead>\n",
       "  <tbody>\n",
       "    <tr>\n",
       "      <th>0</th>\n",
       "      <td>&gt; Anyone knows how much it costs to host a web...</td>\n",
       "    </tr>\n",
       "    <tr>\n",
       "      <th>1</th>\n",
       "      <td>&gt;</td>\n",
       "    </tr>\n",
       "    <tr>\n",
       "      <th>2</th>\n",
       "      <td>Well, it depends on how many visitors you're e...</td>\n",
       "    </tr>\n",
       "    <tr>\n",
       "      <th>3</th>\n",
       "      <td>This can be anywhere from less than 10 bucks a...</td>\n",
       "    </tr>\n",
       "    <tr>\n",
       "      <th>4</th>\n",
       "      <td>You should checkout http://www.rackspace.com/ ...</td>\n",
       "    </tr>\n",
       "    <tr>\n",
       "      <th>5</th>\n",
       "      <td>if youre running something big..</td>\n",
       "    </tr>\n",
       "    <tr>\n",
       "      <th>6</th>\n",
       "      <td>To unsubscribe yourself from this mailing list...</td>\n",
       "    </tr>\n",
       "    <tr>\n",
       "      <th>7</th>\n",
       "      <td>groupname-unsubscribe@egroups.com</td>\n",
       "    </tr>\n",
       "  </tbody>\n",
       "</table>\n",
       "</div>"
      ],
      "text/plain": [
       "                                        emailSample1\n",
       "0  > Anyone knows how much it costs to host a web...\n",
       "1                                                  >\n",
       "2  Well, it depends on how many visitors you're e...\n",
       "3  This can be anywhere from less than 10 bucks a...\n",
       "4  You should checkout http://www.rackspace.com/ ...\n",
       "5                   if youre running something big..\n",
       "6  To unsubscribe yourself from this mailing list...\n",
       "7                  groupname-unsubscribe@egroups.com"
      ]
     },
     "execution_count": 2,
     "metadata": {},
     "output_type": "execute_result"
    }
   ],
   "source": [
    "#Read emailSample1\n",
    "emailSample1=pd.read_table('emailSample1.txt',sep='\\t',header=None,names=['emailSample1'],index_col=None)\n",
    "emailSample1"
   ]
  },
  {
   "cell_type": "markdown",
   "metadata": {},
   "source": [
    "The following email preprocessing and normalization steps:\n",
    "\n",
    "    • Lower-casing: The entire email is converted into lower case, so that captialization is ignored (e.g., IndIcaTE is treated the same as Indicate).\n",
    "\n",
    "    • Stripping HTML: All HTML tags are removed from the emails. Many emails often come with HTML formatting; we remove all the HTML tags, so that only the content remains.\n",
    "\n",
    "    • Normalizing URLs: All URLs are replaced with the text “httpaddr”.\n",
    "\n",
    "    • Normalizing Email Addresses: All email addresses are replaced with the text “emailaddr”.\n",
    "\n",
    "    • Normalizing Numbers: All numbers are replaced with the text “number”.\n",
    "\n",
    "    • Normalizing Dollars: All dollar signs ($) are replaced with the text “dollar”.\n",
    "\n",
    "    • Word Stemming: Words are reduced to their stemmed form. For ex- ample, “discount”, “discounts”, “discounted” and “discounting” are all replaced with “discount”. Sometimes, the Stemmer actually strips off additional characters from the end, so “include”, “includes”, “included”, and “including” are all replaced with “includ”.\n",
    "\n",
    "    • Removal of non-words: Non-words and punctuation have been re- moved. All white spaces (tabs, newlines, spaces) have all been trimmed to a single space character.\n"
   ]
  },
  {
   "cell_type": "markdown",
   "metadata": {},
   "source": [
    "After preprocess:\n",
    "\n",
    "    anyon know how much it cost to host a web portal well it depend on how\n",
    "    \n",
    "    mani visitor your expect thi can be anywher from less than number buck\n",
    "    \n",
    "    a month to a coupl of dollarnumb you should checkout httpaddr or perhap\n",
    "    \n",
    "    amazon ecnumb if your run someth big to unsubscrib yourself from thi\n",
    "    \n",
    "    mail list send an email to emailaddr"
   ]
  },
  {
   "cell_type": "markdown",
   "metadata": {},
   "source": [
    "#### 2.2.1 Vocabulary List"
   ]
  },
  {
   "cell_type": "markdown",
   "metadata": {},
   "source": [
    "The next step is to choose which words we would like to use in our classifier and which we would want to leave out\n",
    "\n",
    "Our vocabulary list was selected by choosing all words which occur at least a 100 tims in spam corpus,reuliting in a list of 1899 words."
   ]
  },
  {
   "cell_type": "code",
   "execution_count": 3,
   "metadata": {},
   "outputs": [
    {
     "data": {
      "text/html": [
       "<div>\n",
       "<style scoped>\n",
       "    .dataframe tbody tr th:only-of-type {\n",
       "        vertical-align: middle;\n",
       "    }\n",
       "\n",
       "    .dataframe tbody tr th {\n",
       "        vertical-align: top;\n",
       "    }\n",
       "\n",
       "    .dataframe thead th {\n",
       "        text-align: right;\n",
       "    }\n",
       "</style>\n",
       "<table border=\"1\" class=\"dataframe\">\n",
       "  <thead>\n",
       "    <tr style=\"text-align: right;\">\n",
       "      <th></th>\n",
       "      <th>index</th>\n",
       "      <th>voc</th>\n",
       "    </tr>\n",
       "  </thead>\n",
       "  <tbody>\n",
       "    <tr>\n",
       "      <th>0</th>\n",
       "      <td>1</td>\n",
       "      <td>aa</td>\n",
       "    </tr>\n",
       "    <tr>\n",
       "      <th>1</th>\n",
       "      <td>2</td>\n",
       "      <td>ab</td>\n",
       "    </tr>\n",
       "    <tr>\n",
       "      <th>2</th>\n",
       "      <td>3</td>\n",
       "      <td>abil</td>\n",
       "    </tr>\n",
       "    <tr>\n",
       "      <th>3</th>\n",
       "      <td>4</td>\n",
       "      <td>abl</td>\n",
       "    </tr>\n",
       "    <tr>\n",
       "      <th>4</th>\n",
       "      <td>5</td>\n",
       "      <td>about</td>\n",
       "    </tr>\n",
       "    <tr>\n",
       "      <th>...</th>\n",
       "      <td>...</td>\n",
       "      <td>...</td>\n",
       "    </tr>\n",
       "    <tr>\n",
       "      <th>1894</th>\n",
       "      <td>1895</td>\n",
       "      <td>your</td>\n",
       "    </tr>\n",
       "    <tr>\n",
       "      <th>1895</th>\n",
       "      <td>1896</td>\n",
       "      <td>yourself</td>\n",
       "    </tr>\n",
       "    <tr>\n",
       "      <th>1896</th>\n",
       "      <td>1897</td>\n",
       "      <td>zdnet</td>\n",
       "    </tr>\n",
       "    <tr>\n",
       "      <th>1897</th>\n",
       "      <td>1898</td>\n",
       "      <td>zero</td>\n",
       "    </tr>\n",
       "    <tr>\n",
       "      <th>1898</th>\n",
       "      <td>1899</td>\n",
       "      <td>zip</td>\n",
       "    </tr>\n",
       "  </tbody>\n",
       "</table>\n",
       "<p>1899 rows × 2 columns</p>\n",
       "</div>"
      ],
      "text/plain": [
       "      index       voc\n",
       "0         1        aa\n",
       "1         2        ab\n",
       "2         3      abil\n",
       "3         4       abl\n",
       "4         5     about\n",
       "...     ...       ...\n",
       "1894   1895      your\n",
       "1895   1896  yourself\n",
       "1896   1897     zdnet\n",
       "1897   1898      zero\n",
       "1898   1899       zip\n",
       "\n",
       "[1899 rows x 2 columns]"
      ]
     },
     "execution_count": 3,
     "metadata": {},
     "output_type": "execute_result"
    }
   ],
   "source": [
    "vocab=pd.read_table('vocab.txt',header=None,sep='\\t',names=['index','voc'])\n",
    "vocab"
   ]
  },
  {
   "cell_type": "markdown",
   "metadata": {},
   "source": [
    "Given the vovabulary list,we can now map each word in the prepreocessed emails into a list os word indices that contains the index of the word in the vocabulary list."
   ]
  },
  {
   "cell_type": "markdown",
   "metadata": {},
   "source": [
    "### 2.2 Extracting Features for Emails"
   ]
  },
  {
   "cell_type": "markdown",
   "metadata": {},
   "source": [
    "This a hard part which is to vectorize the eamils.\n",
    "\n",
    "But using this prepreocessed dataset is cheating."
   ]
  },
  {
   "cell_type": "code",
   "execution_count": 4,
   "metadata": {},
   "outputs": [],
   "source": [
    "def load_mat():\n",
    "    spam_train=loadmat('spamTrain.mat')\n",
    "    spam_test=loadmat('spamTest.mat')\n",
    "    X = spam_train['X']\n",
    "    Xtest = spam_test['Xtest']\n",
    "    y = spam_train['y'].ravel()\n",
    "    ytest = spam_test['ytest'].ravel()\n",
    "    \n",
    "    return X,y,Xtest,ytest"
   ]
  },
  {
   "cell_type": "code",
   "execution_count": 5,
   "metadata": {},
   "outputs": [],
   "source": [
    "X,y,Xtest,ytest=load_mat()"
   ]
  },
  {
   "cell_type": "markdown",
   "metadata": {},
   "source": [
    "### 2.3 Training SVM for Spam Classification"
   ]
  },
  {
   "cell_type": "code",
   "execution_count": 6,
   "metadata": {},
   "outputs": [
    {
     "name": "stdout",
     "output_type": "stream",
     "text": [
      "Score:0.99325\n"
     ]
    }
   ],
   "source": [
    "from sklearn.svm import SVC\n",
    "\n",
    "svc=SVC(kernel='rbf')\n",
    "svc.fit(X,y)\n",
    "print(\"Score:{}\".format(svc.score(X,y)))"
   ]
  },
  {
   "cell_type": "code",
   "execution_count": 7,
   "metadata": {},
   "outputs": [
    {
     "name": "stdout",
     "output_type": "stream",
     "text": [
      "              precision    recall  f1-score   support\n",
      "\n",
      "           0       0.99      1.00      0.99       692\n",
      "           1       0.99      0.97      0.98       308\n",
      "\n",
      "    accuracy                           0.99      1000\n",
      "   macro avg       0.99      0.98      0.98      1000\n",
      "weighted avg       0.99      0.99      0.99      1000\n",
      "\n"
     ]
    }
   ],
   "source": [
    "from sklearn.metrics import classification_report\n",
    "ypred=svc.predict(Xtest)\n",
    "\n",
    "print(classification_report(ytest,ypred))"
   ]
  }
 ],
 "metadata": {
  "kernelspec": {
   "display_name": "Python 3",
   "language": "python",
   "name": "python3"
  },
  "language_info": {
   "codemirror_mode": {
    "name": "ipython",
    "version": 3
   },
   "file_extension": ".py",
   "mimetype": "text/x-python",
   "name": "python",
   "nbconvert_exporter": "python",
   "pygments_lexer": "ipython3",
   "version": "3.7.7"
  }
 },
 "nbformat": 4,
 "nbformat_minor": 4
}

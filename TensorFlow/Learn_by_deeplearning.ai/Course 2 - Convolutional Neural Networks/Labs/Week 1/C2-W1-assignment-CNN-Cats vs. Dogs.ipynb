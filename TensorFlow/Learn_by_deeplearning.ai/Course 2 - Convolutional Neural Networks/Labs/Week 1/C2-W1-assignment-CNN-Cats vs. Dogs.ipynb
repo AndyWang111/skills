{
 "cells": [
  {
   "cell_type": "code",
   "execution_count": 1,
   "metadata": {},
   "outputs": [],
   "source": [
    "import os \n",
    "import zipfile\n",
    "import random\n",
    "import tensorflow as tf\n",
    "from tensorflow.keras.optimizers import RMSprop\n",
    "from tensorflow.keras.preprocessing.image import ImageDataGenerator\n",
    "from shutil import copyfile"
   ]
  },
  {
   "cell_type": "code",
   "execution_count": 2,
   "metadata": {},
   "outputs": [],
   "source": [
    "!wget --no-check-certificate \\\n",
    "    \"https://download.microsoft.com/download/3/E/1/3E1C3F21-ECDB-4869-8368-6DEBA77B919F/kagglecatsanddogs_3367a.zip\" \\\n",
    "    -O \"/tmp/cats-and-dogs.zip\"\n",
    "\n",
    "local_zip = '/tmp/cats-and-dogs.zip'\n",
    "zip_ref   = zipfile.ZipFile(local_zip, 'r')\n",
    "zip_ref.extractall('/tmp')\n",
    "zip_ref.close()"
   ]
  },
  {
   "cell_type": "code",
   "execution_count": 3,
   "metadata": {},
   "outputs": [
    {
     "name": "stdout",
     "output_type": "stream",
     "text": [
      "12501\n",
      "12501\n"
     ]
    }
   ],
   "source": [
    "print(len(os.listdir('/tmp/PetImages/Cat/')))\n",
    "print(len(os.listdir('/tmp/PetImages/Dog/')))"
   ]
  },
  {
   "cell_type": "code",
   "execution_count": 4,
   "metadata": {},
   "outputs": [],
   "source": [
    "try:\n",
    "    os.mkdir('/tmp/cats-v-dogs')\n",
    "    os.mkdir('/tmp/cats-v-dogs/training')\n",
    "    os.mkdir('/tmp/cats-v-dogs/testing')\n",
    "    os.mkdir('/tmp/cats-v-dogs/training/cats')\n",
    "    os.mkdir('/tmp/cats-v-dogs/training/dogs')\n",
    "    os.mkdir('/tmp/cats-v-dogs/testing/cats')\n",
    "    os.mkdir('/tmp/cats-v-dogs/testing/dogs')\n",
    "except OSError:\n",
    "    pass"
   ]
  },
  {
   "cell_type": "code",
   "execution_count": 5,
   "metadata": {},
   "outputs": [
    {
     "name": "stdout",
     "output_type": "stream",
     "text": [
      "666.jpgis zero length , so ignoring. \n",
      "11702.jpgis zero length , so ignoring. \n"
     ]
    }
   ],
   "source": [
    "def split_data(SOURCE , TRAINING , TESTING , SPLIT_SIZE):\n",
    "    files = []\n",
    "    for filename in os.listdir(SOURCE):\n",
    "        file = SOURCE + filename\n",
    "        if os.path.getsize(file) > 0:\n",
    "            files.append(filename)\n",
    "        else:\n",
    "            print(filename + \"is zero length , so ignoring. \")\n",
    "    \n",
    "    training_length = int(len(files) * SPLIT_SIZE)\n",
    "    testing_length = int(len(files) - training_length)\n",
    "    shuffled_set = random.sample(files,len(files))\n",
    "    training_set = shuffled_set[0:training_length]\n",
    "    testing_set = shuffled_set[-testing_length:]\n",
    "    \n",
    "    for filename in training_set:\n",
    "        this_file = SOURCE + filename\n",
    "        destination = TRAINING + filename\n",
    "        copyfile(this_file, destination)\n",
    "\n",
    "    for filename in testing_set:\n",
    "        this_file = SOURCE + filename\n",
    "        destination = TESTING + filename\n",
    "        copyfile(this_file, destination)\n",
    "        \n",
    "        \n",
    "CAT_SOURCE_DIR = \"/tmp/PetImages/Cat/\"\n",
    "TRAINING_CATS_DIR = \"/tmp/cats-v-dogs/training/cats/\"\n",
    "TESTING_CATS_DIR = \"/tmp/cats-v-dogs/testing/cats/\"\n",
    "DOG_SOURCE_DIR = \"/tmp/PetImages/Dog/\"\n",
    "TRAINING_DOGS_DIR = \"/tmp/cats-v-dogs/training/dogs/\"\n",
    "TESTING_DOGS_DIR = \"/tmp/cats-v-dogs/testing/dogs/\"\n",
    "\n",
    "split_size = .9\n",
    "split_data(CAT_SOURCE_DIR, TRAINING_CATS_DIR, TESTING_CATS_DIR, split_size)\n",
    "split_data(DOG_SOURCE_DIR, TRAINING_DOGS_DIR, TESTING_DOGS_DIR, split_size)"
   ]
  },
  {
   "cell_type": "code",
   "execution_count": 6,
   "metadata": {},
   "outputs": [
    {
     "name": "stdout",
     "output_type": "stream",
     "text": [
      "12357\n",
      "12381\n",
      "2357\n",
      "2381\n"
     ]
    }
   ],
   "source": [
    "print(len(os.listdir('/tmp/cats-v-dogs/training/cats/')))\n",
    "print(len(os.listdir('/tmp/cats-v-dogs/training/dogs/')))\n",
    "print(len(os.listdir('/tmp/cats-v-dogs/testing/cats/')))\n",
    "print(len(os.listdir('/tmp/cats-v-dogs/testing/dogs/')))"
   ]
  },
  {
   "cell_type": "code",
   "execution_count": 7,
   "metadata": {},
   "outputs": [],
   "source": [
    "model = tf.keras.models.Sequential([\n",
    "    tf.keras.layers.Conv2D(16, (3, 3), activation='relu', input_shape=(150, 150, 3)),\n",
    "    tf.keras.layers.MaxPooling2D(2, 2),\n",
    "    tf.keras.layers.Conv2D(32, (3, 3), activation='relu'),\n",
    "    tf.keras.layers.MaxPooling2D(2, 2),\n",
    "    tf.keras.layers.Conv2D(64, (3, 3), activation='relu'),\n",
    "    tf.keras.layers.MaxPooling2D(2, 2),\n",
    "    tf.keras.layers.Flatten(),\n",
    "    tf.keras.layers.Dense(512, activation='relu'),\n",
    "    tf.keras.layers.Dense(1, activation='sigmoid')\n",
    "])\n",
    "\n",
    "model.compile(optimizer=RMSprop(lr=0.001), loss='binary_crossentropy', metrics=['accuracy'])"
   ]
  },
  {
   "cell_type": "code",
   "execution_count": 8,
   "metadata": {},
   "outputs": [
    {
     "name": "stdout",
     "output_type": "stream",
     "text": [
      "Found 24736 images belonging to 2 classes.\n",
      "Found 4738 images belonging to 2 classes.\n"
     ]
    }
   ],
   "source": [
    "TRAINING_DIR = \"/tmp/cats-v-dogs/training/\"\n",
    "train_datagen = ImageDataGenerator(rescale=1.0/255.)\n",
    "train_generator = train_datagen.flow_from_directory(TRAINING_DIR,\n",
    "                                                    batch_size=100,\n",
    "                                                    class_mode='binary',\n",
    "                                                    target_size=(150, 150))\n",
    "\n",
    "VALIDATION_DIR = \"/tmp/cats-v-dogs/testing/\"\n",
    "validation_datagen = ImageDataGenerator(rescale=1.0/255.)\n",
    "validation_generator = validation_datagen.flow_from_directory(VALIDATION_DIR,\n",
    "                                                              batch_size=100,\n",
    "                                                              class_mode='binary',\n",
    "                                                              target_size=(150, 150))"
   ]
  },
  {
   "cell_type": "code",
   "execution_count": 9,
   "metadata": {},
   "outputs": [
    {
     "name": "stdout",
     "output_type": "stream",
     "text": [
      "WARNING:tensorflow:sample_weight modes were coerced from\n",
      "  ...\n",
      "    to  \n",
      "  ['...']\n",
      "WARNING:tensorflow:sample_weight modes were coerced from\n",
      "  ...\n",
      "    to  \n",
      "  ['...']\n",
      "Train for 248 steps, validate for 48 steps\n",
      "Epoch 1/50\n",
      "149/248 [=================>............] - ETA: 3:06 - loss: 0.7691 - accuracy: 0.6113"
     ]
    },
    {
     "name": "stderr",
     "output_type": "stream",
     "text": [
      "/Library/Frameworks/Python.framework/Versions/3.7/lib/python3.7/site-packages/PIL/TiffImagePlugin.py:770: UserWarning: Possibly corrupt EXIF data.  Expecting to read 32 bytes but only got 0. Skipping tag 270\n",
      "  \" Skipping tag %s\" % (size, len(data), tag)\n",
      "/Library/Frameworks/Python.framework/Versions/3.7/lib/python3.7/site-packages/PIL/TiffImagePlugin.py:770: UserWarning: Possibly corrupt EXIF data.  Expecting to read 5 bytes but only got 0. Skipping tag 271\n",
      "  \" Skipping tag %s\" % (size, len(data), tag)\n",
      "/Library/Frameworks/Python.framework/Versions/3.7/lib/python3.7/site-packages/PIL/TiffImagePlugin.py:770: UserWarning: Possibly corrupt EXIF data.  Expecting to read 8 bytes but only got 0. Skipping tag 272\n",
      "  \" Skipping tag %s\" % (size, len(data), tag)\n",
      "/Library/Frameworks/Python.framework/Versions/3.7/lib/python3.7/site-packages/PIL/TiffImagePlugin.py:770: UserWarning: Possibly corrupt EXIF data.  Expecting to read 8 bytes but only got 0. Skipping tag 282\n",
      "  \" Skipping tag %s\" % (size, len(data), tag)\n",
      "/Library/Frameworks/Python.framework/Versions/3.7/lib/python3.7/site-packages/PIL/TiffImagePlugin.py:770: UserWarning: Possibly corrupt EXIF data.  Expecting to read 8 bytes but only got 0. Skipping tag 283\n",
      "  \" Skipping tag %s\" % (size, len(data), tag)\n",
      "/Library/Frameworks/Python.framework/Versions/3.7/lib/python3.7/site-packages/PIL/TiffImagePlugin.py:770: UserWarning: Possibly corrupt EXIF data.  Expecting to read 20 bytes but only got 0. Skipping tag 306\n",
      "  \" Skipping tag %s\" % (size, len(data), tag)\n",
      "/Library/Frameworks/Python.framework/Versions/3.7/lib/python3.7/site-packages/PIL/TiffImagePlugin.py:770: UserWarning: Possibly corrupt EXIF data.  Expecting to read 48 bytes but only got 0. Skipping tag 532\n",
      "  \" Skipping tag %s\" % (size, len(data), tag)\n",
      "/Library/Frameworks/Python.framework/Versions/3.7/lib/python3.7/site-packages/PIL/TiffImagePlugin.py:788: UserWarning: Corrupt EXIF data.  Expecting to read 2 bytes but only got 0. \n",
      "  warnings.warn(str(msg))\n"
     ]
    },
    {
     "name": "stdout",
     "output_type": "stream",
     "text": [
      "248/248 [==============================] - 526s 2s/step - loss: 0.6913 - accuracy: 0.6499 - val_loss: 0.5402 - val_accuracy: 0.7366\n",
      "Epoch 2/50\n",
      "248/248 [==============================] - 480s 2s/step - loss: 0.5069 - accuracy: 0.7492 - val_loss: 0.4302 - val_accuracy: 0.8014\n",
      "Epoch 3/50\n",
      "248/248 [==============================] - 582s 2s/step - loss: 0.4352 - accuracy: 0.7961 - val_loss: 0.3908 - val_accuracy: 0.8297\n",
      "Epoch 4/50\n",
      "248/248 [==============================] - 532s 2s/step - loss: 0.3772 - accuracy: 0.8290 - val_loss: 0.3047 - val_accuracy: 0.8757\n",
      "Epoch 5/50\n",
      "248/248 [==============================] - 620s 3s/step - loss: 0.3284 - accuracy: 0.8545 - val_loss: 0.3562 - val_accuracy: 0.8396\n",
      "Epoch 6/50\n",
      "248/248 [==============================] - 754s 3s/step - loss: 0.2742 - accuracy: 0.8840 - val_loss: 0.2452 - val_accuracy: 0.8945\n",
      "Epoch 7/50\n",
      "248/248 [==============================] - 750s 3s/step - loss: 0.2128 - accuracy: 0.9114 - val_loss: 0.2093 - val_accuracy: 0.9143\n",
      "Epoch 8/50\n",
      "248/248 [==============================] - 844s 3s/step - loss: 0.1603 - accuracy: 0.9362 - val_loss: 0.1555 - val_accuracy: 0.9420\n",
      "Epoch 9/50\n",
      "248/248 [==============================] - 1007s 4s/step - loss: 0.1138 - accuracy: 0.9595 - val_loss: 0.0917 - val_accuracy: 0.9732\n",
      "Epoch 10/50\n",
      "248/248 [==============================] - 928s 4s/step - loss: 0.0764 - accuracy: 0.9730 - val_loss: 0.0562 - val_accuracy: 0.9888\n",
      "Epoch 11/50\n",
      "248/248 [==============================] - 810s 3s/step - loss: 0.0576 - accuracy: 0.9814 - val_loss: 0.0525 - val_accuracy: 0.9907\n",
      "Epoch 12/50\n",
      "248/248 [==============================] - 615s 2s/step - loss: 0.0470 - accuracy: 0.9855 - val_loss: 0.0596 - val_accuracy: 0.9894\n",
      "Epoch 13/50\n",
      "248/248 [==============================] - 578s 2s/step - loss: 0.0436 - accuracy: 0.9875 - val_loss: 0.0588 - val_accuracy: 0.9907\n",
      "Epoch 14/50\n",
      "248/248 [==============================] - 559s 2s/step - loss: 0.0354 - accuracy: 0.9913 - val_loss: 0.0658 - val_accuracy: 0.9907\n",
      "Epoch 15/50\n",
      "248/248 [==============================] - 572s 2s/step - loss: 0.0494 - accuracy: 0.9877 - val_loss: 0.0692 - val_accuracy: 0.9913\n",
      "Epoch 16/50\n",
      "248/248 [==============================] - 571s 2s/step - loss: 0.0399 - accuracy: 0.9909 - val_loss: 0.0779 - val_accuracy: 0.9909\n",
      "Epoch 17/50\n",
      "248/248 [==============================] - 555s 2s/step - loss: 0.0273 - accuracy: 0.9918 - val_loss: 0.0776 - val_accuracy: 0.9909\n",
      "Epoch 18/50\n",
      "248/248 [==============================] - 427s 2s/step - loss: 0.0339 - accuracy: 0.9917 - val_loss: 0.0697 - val_accuracy: 0.9909\n",
      "Epoch 19/50\n",
      "248/248 [==============================] - 329s 1s/step - loss: 0.0334 - accuracy: 0.9905 - val_loss: 0.0811 - val_accuracy: 0.9888\n",
      "Epoch 20/50\n",
      "248/248 [==============================] - 269s 1s/step - loss: 0.0285 - accuracy: 0.9914 - val_loss: 0.0881 - val_accuracy: 0.9890\n",
      "Epoch 21/50\n",
      "248/248 [==============================] - 287s 1s/step - loss: 0.0251 - accuracy: 0.9932 - val_loss: 0.0819 - val_accuracy: 0.9888\n",
      "Epoch 22/50\n",
      "248/248 [==============================] - 272s 1s/step - loss: 0.0466 - accuracy: 0.9900 - val_loss: 0.0803 - val_accuracy: 0.9892\n",
      "Epoch 23/50\n",
      "248/248 [==============================] - 283s 1s/step - loss: 0.0287 - accuracy: 0.9918 - val_loss: 0.1086 - val_accuracy: 0.9886\n",
      "Epoch 24/50\n",
      "248/248 [==============================] - 285s 1s/step - loss: 0.0341 - accuracy: 0.9902 - val_loss: 0.0917 - val_accuracy: 0.9894\n",
      "Epoch 25/50\n",
      "248/248 [==============================] - 271s 1s/step - loss: 0.0482 - accuracy: 0.9887 - val_loss: 0.1085 - val_accuracy: 0.9897\n",
      "Epoch 26/50\n",
      "248/248 [==============================] - 287s 1s/step - loss: 0.0383 - accuracy: 0.9914 - val_loss: 0.0958 - val_accuracy: 0.9892\n",
      "Epoch 27/50\n",
      "248/248 [==============================] - 267s 1s/step - loss: 0.0549 - accuracy: 0.9866 - val_loss: 0.1167 - val_accuracy: 0.9886\n",
      "Epoch 28/50\n",
      "248/248 [==============================] - 289s 1s/step - loss: 0.0497 - accuracy: 0.9887 - val_loss: 0.1051 - val_accuracy: 0.9892\n",
      "Epoch 29/50\n",
      "248/248 [==============================] - 288s 1s/step - loss: 0.0497 - accuracy: 0.9881 - val_loss: 0.1151 - val_accuracy: 0.9903\n",
      "Epoch 30/50\n",
      "248/248 [==============================] - 355s 1s/step - loss: 0.0620 - accuracy: 0.9863 - val_loss: 0.4571 - val_accuracy: 0.8392\n",
      "Epoch 31/50\n",
      "248/248 [==============================] - 393s 2s/step - loss: 0.0483 - accuracy: 0.9879 - val_loss: 0.1294 - val_accuracy: 0.9869\n",
      "Epoch 32/50\n",
      "248/248 [==============================] - 408s 2s/step - loss: 0.0804 - accuracy: 0.9883 - val_loss: 0.1133 - val_accuracy: 0.9890\n",
      "Epoch 33/50\n",
      "248/248 [==============================] - 553s 2s/step - loss: 0.0528 - accuracy: 0.9888 - val_loss: 0.0898 - val_accuracy: 0.9882\n",
      "Epoch 34/50\n",
      "248/248 [==============================] - 330s 1s/step - loss: 0.0687 - accuracy: 0.9861 - val_loss: 0.1260 - val_accuracy: 0.9871\n",
      "Epoch 35/50\n",
      "248/248 [==============================] - 377s 2s/step - loss: 0.0708 - accuracy: 0.9829 - val_loss: 0.1010 - val_accuracy: 0.9894\n",
      "Epoch 36/50\n",
      "248/248 [==============================] - 414s 2s/step - loss: 0.0928 - accuracy: 0.9782 - val_loss: 0.1002 - val_accuracy: 0.9852\n",
      "Epoch 37/50\n",
      "248/248 [==============================] - 357s 1s/step - loss: 0.0784 - accuracy: 0.9839 - val_loss: 0.1095 - val_accuracy: 0.9894\n",
      "Epoch 38/50\n",
      "248/248 [==============================] - 389s 2s/step - loss: 0.0742 - accuracy: 0.9823 - val_loss: 0.0797 - val_accuracy: 0.9865\n",
      "Epoch 39/50\n",
      "248/248 [==============================] - 367s 1s/step - loss: 0.0544 - accuracy: 0.9858 - val_loss: 0.1124 - val_accuracy: 0.9886\n",
      "Epoch 40/50\n",
      "248/248 [==============================] - 372s 2s/step - loss: 0.0928 - accuracy: 0.9833 - val_loss: 0.3813 - val_accuracy: 0.9198\n",
      "Epoch 41/50\n",
      "248/248 [==============================] - 364s 1s/step - loss: 0.0955 - accuracy: 0.9793 - val_loss: 0.0835 - val_accuracy: 0.9846\n",
      "Epoch 42/50\n",
      "248/248 [==============================] - 343s 1s/step - loss: 0.0829 - accuracy: 0.9825 - val_loss: 0.1006 - val_accuracy: 0.9897\n",
      "Epoch 43/50\n",
      "248/248 [==============================] - 269s 1s/step - loss: 0.0947 - accuracy: 0.9772 - val_loss: 0.1045 - val_accuracy: 0.9873\n",
      "Epoch 44/50\n",
      "248/248 [==============================] - 305s 1s/step - loss: 0.0875 - accuracy: 0.9819 - val_loss: 0.1130 - val_accuracy: 0.9875\n",
      "Epoch 45/50\n",
      "248/248 [==============================] - 304s 1s/step - loss: 0.0987 - accuracy: 0.9802 - val_loss: 0.0858 - val_accuracy: 0.9886\n",
      "Epoch 46/50\n",
      "248/248 [==============================] - 286s 1s/step - loss: 0.0936 - accuracy: 0.9828 - val_loss: 0.1139 - val_accuracy: 0.9886\n",
      "Epoch 47/50\n",
      "248/248 [==============================] - 329s 1s/step - loss: 0.0697 - accuracy: 0.9814 - val_loss: 0.1243 - val_accuracy: 0.9899\n",
      "Epoch 48/50\n",
      "248/248 [==============================] - 258s 1s/step - loss: 0.1246 - accuracy: 0.9817 - val_loss: 0.1263 - val_accuracy: 0.9774\n",
      "Epoch 49/50\n",
      "248/248 [==============================] - 290s 1s/step - loss: 0.0802 - accuracy: 0.9816 - val_loss: 0.1101 - val_accuracy: 0.9901\n",
      "Epoch 50/50\n",
      "248/248 [==============================] - 254s 1s/step - loss: 0.0702 - accuracy: 0.9835 - val_loss: 0.1293 - val_accuracy: 0.9886\n"
     ]
    }
   ],
   "source": [
    "history = model.fit(train_generator,\n",
    "                              epochs=50,\n",
    "                              verbose=1,\n",
    "                              validation_data=validation_generator)"
   ]
  },
  {
   "cell_type": "code",
   "execution_count": 10,
   "metadata": {},
   "outputs": [
    {
     "data": {
      "text/plain": [
       "<Figure size 432x288 with 0 Axes>"
      ]
     },
     "execution_count": 10,
     "metadata": {},
     "output_type": "execute_result"
    },
    {
     "data": {
      "image/png": "[encoded data removed]",
      "text/plain": [
       "<Figure size 432x288 with 1 Axes>"
      ]
     },
     "metadata": {
      "needs_background": "light"
     },
     "output_type": "display_data"
    },
    {
     "data": {
      "image/png": "[encoded data removed]",
      "text/plain": [
       "<Figure size 432x288 with 1 Axes>"
      ]
     },
     "metadata": {
      "needs_background": "light"
     },
     "output_type": "display_data"
    },
    {
     "data": {
      "text/plain": [
       "<Figure size 432x288 with 0 Axes>"
      ]
     },
     "metadata": {},
     "output_type": "display_data"
    }
   ],
   "source": [
    "import matplotlib.image  as mpimg\n",
    "import matplotlib.pyplot as plt\n",
    "\n",
    "# Retrieve a list of list results on training and test data\n",
    "# sets for each training epoch\n",
    "acc=history.history['accuracy']\n",
    "val_acc=history.history['val_accuracy']\n",
    "loss=history.history['loss']\n",
    "val_loss=history.history['val_loss']\n",
    "\n",
    "epochs=range(len(acc)) # Get number of epochs\n",
    "\n",
    "# Plot training and validation accuracy per epoch\n",
    "plt.plot(epochs, acc, 'r', \"Training Accuracy\")\n",
    "plt.plot(epochs, val_acc, 'b', \"Validation Accuracy\")\n",
    "plt.title('Training and validation accuracy')\n",
    "plt.figure()\n",
    "\n",
    "# Plot training and validation loss per epoch\n",
    "plt.plot(epochs, loss, 'r', \"Training Loss\")\n",
    "plt.plot(epochs, val_loss, 'b', \"Validation Loss\")\n",
    "plt.figure()"
   ]
  },
  {
   "cell_type": "code",
   "execution_count": 11,
   "metadata": {},
   "outputs": [
    {
     "name": "stdout",
     "output_type": "stream",
     "text": [
      "[1.]\n",
      "dog1.jpg is a dog\n"
     ]
    }
   ],
   "source": [
    "import numpy as np\n",
    "from tensorflow.keras.preprocessing import image\n",
    "\n",
    "path='./CatsOrDogs/dog1.jpg'\n",
    "\n",
    "def CatsOrDogs(path):\n",
    "    fn=path.split('/')[-1]\n",
    "    img = image.load_img(path, target_size=(150, 150))\n",
    "    x = image.img_to_array(img)\n",
    "    x = np.expand_dims(x, axis=0)\n",
    "\n",
    "    images = np.vstack([x])\n",
    "    classes = model.predict(images, batch_size=10)\n",
    "    print(classes[0])\n",
    "    if classes[0]>0:\n",
    "        print(fn + \" is a dog\")\n",
    "    else:\n",
    "        print(fn + \" is a cat\")\n",
    "    \n",
    "CatsOrDogs(path)"
   ]
  },
  {
   "cell_type": "code",
   "execution_count": null,
   "metadata": {},
   "outputs": [],
   "source": []
  }
 ],
 "metadata": {
  "kernelspec": {
   "display_name": "Python 3",
   "language": "python",
   "name": "python3"
  },
  "language_info": {
   "codemirror_mode": {
    "name": "ipython",
    "version": 3
   },
   "file_extension": ".py",
   "mimetype": "text/x-python",
   "name": "python",
   "nbconvert_exporter": "python",
   "pygments_lexer": "ipython3",
   "version": "3.7.7"
  }
 },
 "nbformat": 4,
 "nbformat_minor": 4
}

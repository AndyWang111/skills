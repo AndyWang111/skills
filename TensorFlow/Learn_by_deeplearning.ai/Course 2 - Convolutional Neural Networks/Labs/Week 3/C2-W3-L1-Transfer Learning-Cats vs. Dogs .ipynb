{
 "cells": [
  {
   "cell_type": "code",
   "execution_count": 1,
   "metadata": {},
   "outputs": [],
   "source": [
    "import os\n",
    "\n",
    "from tensorflow.keras import layers\n",
    "from tensorflow.keras import Model"
   ]
  },
  {
   "cell_type": "code",
   "execution_count": 2,
   "metadata": {},
   "outputs": [
    {
     "name": "stdout",
     "output_type": "stream",
     "text": [
      "--2020-07-24 10:39:16--  https://storage.googleapis.com/mledu-datasets/inception_v3_weights_tf_dim_ordering_tf_kernels_notop.h5\n",
      "正在解析主机 storage.googleapis.com (storage.googleapis.com)... 34.64.4.16, 34.64.4.112, 34.64.4.80\n",
      "正在连接 storage.googleapis.com (storage.googleapis.com)|34.64.4.16|:443... 已连接。\n",
      "已发出 HTTP 请求，正在等待回应... 200 OK\n",
      "长度：87910968 (84M) [application/x-hdf]\n",
      "正在保存至: “/tmp/inception_v3_weights_tf_dim_ordering_tf_kernels_notop.h5”\n",
      "\n",
      "/tmp/inception_v3_w 100%[===================>]  83.84M   481KB/s  用时 3m 7s     \n",
      "\n",
      "2020-07-24 10:42:24 (458 KB/s) - 已保存 “/tmp/inception_v3_weights_tf_dim_ordering_tf_kernels_notop.h5” [87910968/87910968])\n",
      "\n"
     ]
    }
   ],
   "source": [
    "!wget --no-check-certificate \\\n",
    "    https://storage.googleapis.com/mledu-datasets/inception_v3_weights_tf_dim_ordering_tf_kernels_notop.h5 \\\n",
    "    -O /tmp/inception_v3_weights_tf_dim_ordering_tf_kernels_notop.h5"
   ]
  },
  {
   "cell_type": "code",
   "execution_count": 3,
   "metadata": {},
   "outputs": [
    {
     "name": "stdout",
     "output_type": "stream",
     "text": [
      "last layer output shape:  (None, 7, 7, 768)\n"
     ]
    }
   ],
   "source": [
    "from tensorflow.keras.applications.inception_v3 import InceptionV3\n",
    "\n",
    "local_weights_file = '/tmp/inception_v3_weights_tf_dim_ordering_tf_kernels_notop.h5'\n",
    "\n",
    "pre_trained_model = InceptionV3(input_shape = (150, 150, 3), \n",
    "                                include_top = False, \n",
    "                                weights = None)\n",
    "\n",
    "pre_trained_model.load_weights(local_weights_file)\n",
    "\n",
    "for layer in pre_trained_model.layers:\n",
    "    layer.trainable = False\n",
    "  \n",
    "# pre_trained_model.summary()\n",
    "\n",
    "last_layer = pre_trained_model.get_layer('mixed7')\n",
    "print('last layer output shape: ', last_layer.output_shape)\n",
    "last_output = last_layer.output"
   ]
  },
  {
   "cell_type": "markdown",
   "metadata": {},
   "source": [
    "**Using dropout!**\n",
    "\n",
    "![jupyter](./dropout.png)"
   ]
  },
  {
   "cell_type": "code",
   "execution_count": 4,
   "metadata": {},
   "outputs": [],
   "source": [
    "from tensorflow.keras.optimizers import RMSprop\n",
    "from tensorflow import keras\n",
    "\n",
    "# Flatten the output later to 1 dimension\n",
    "x=keras.layers.Flatten()(last_output)\n",
    "# Add a fully connected layer with 1,024 hidden units and ReLu activation\n",
    "x=keras.layers.Dense(1024,activation='relu')(x)\n",
    "# Add a dropout rate of 0.2\n",
    "x=keras.layers.Dropout(0.2)(x)\n",
    "# Add a final a sigmoid layer of classification\n",
    "x=keras.layers.Dense(1,activation='sigmoid')(x)\n",
    "\n",
    "model=Model(pre_trained_model.input,x)\n",
    "\n",
    "model.compile(optimizer=RMSprop(lr=0.0001),\n",
    "              loss='binary_crossentropy',\n",
    "              metrics=['accuracy'])"
   ]
  },
  {
   "cell_type": "code",
   "execution_count": 5,
   "metadata": {},
   "outputs": [],
   "source": [
    "!wget --no-check-certificate \\\n",
    "        https://storage.googleapis.com/mledu-datasets/cats_and_dogs_filtered.zip \\\n",
    "       -O /tmp/cats_and_dogs_filtered.zip\n",
    "local_zip='/tmp/cats_and_dogs_filtered.zip'\n",
    "\n",
    "zip_ref=zipfile.ZipFile(local_zip,'r')\n",
    "zip_ref.extractall('/tmp')\n",
    "zip_ref.close()"
   ]
  },
  {
   "cell_type": "code",
   "execution_count": 6,
   "metadata": {},
   "outputs": [
    {
     "name": "stdout",
     "output_type": "stream",
     "text": [
      "['cat.952.jpg', 'cat.946.jpg', 'cat.6.jpg', 'cat.749.jpg', 'cat.991.jpg', 'cat.985.jpg', 'cat.775.jpg', 'cat.761.jpg', 'cat.588.jpg', 'cat.239.jpg']\n",
      "['dog.775.jpg', 'dog.761.jpg', 'dog.991.jpg', 'dog.749.jpg', 'dog.985.jpg', 'dog.952.jpg', 'dog.946.jpg', 'dog.211.jpg', 'dog.577.jpg', 'dog.563.jpg']\n"
     ]
    }
   ],
   "source": [
    "from tensorflow.keras.preprocessing.image import ImageDataGenerator\n",
    "\n",
    "import os\n",
    "import zipfile\n",
    "\n",
    "\n",
    "# Define our example directories and files\n",
    "base_dir='/tmp/cats_and_dogs_filtered'\n",
    "\n",
    "train_dir=os.path.join(base_dir,'train')\n",
    "validation_dir=os.path.join(base_dir,'validation')\n",
    "\n",
    "train_cats_dir=os.path.join(train_dir,'cats')\n",
    "train_dogs_dir=os.path.join(train_dir,'dogs')\n",
    "validation_cats_dir = os.path.join(validation_dir, 'cats')\n",
    "validation_dogs_dir = os.path.join(validation_dir, 'dogs')\n",
    "\n",
    "\n",
    "train_cat_fnames=os.listdir(train_cats_dir)\n",
    "train_dog_fnames=os.listdir(train_dogs_dir)\n",
    "\n",
    "print(train_cat_fnames[:10])\n",
    "print(train_dog_fnames[:10])"
   ]
  },
  {
   "cell_type": "code",
   "execution_count": 7,
   "metadata": {},
   "outputs": [
    {
     "name": "stdout",
     "output_type": "stream",
     "text": [
      "Found 2000 images belonging to 2 classes.\n",
      "Found 1000 images belonging to 2 classes.\n"
     ]
    }
   ],
   "source": [
    "# Add our data-augmentation parameters to ImageDataGenerator\n",
    "train_datagen = ImageDataGenerator(rescale = 1./255.,\n",
    "                                   rotation_range = 40,\n",
    "                                   width_shift_range = 0.2,\n",
    "                                   height_shift_range = 0.2,\n",
    "                                   shear_range = 0.2,\n",
    "                                   zoom_range = 0.2,\n",
    "                                   horizontal_flip = True)\n",
    "\n",
    "# Note that the validation data should not be augmented!\n",
    "test_datagen = ImageDataGenerator( rescale = 1.0/255. )\n",
    "\n",
    "# Flow training images in batches of 20 using train_datagen generator\n",
    "train_generator = train_datagen.flow_from_directory(train_dir,\n",
    "                                                    batch_size = 20,\n",
    "                                                    class_mode = 'binary', \n",
    "                                                    target_size = (150, 150))     \n",
    "\n",
    "# Flow validation images in batches of 20 using test_datagen generator\n",
    "validation_generator =  test_datagen.flow_from_directory( validation_dir,\n",
    "                                                          batch_size  = 20,\n",
    "                                                          class_mode  = 'binary', \n",
    "                                                          target_size = (150, 150))"
   ]
  },
  {
   "cell_type": "code",
   "execution_count": 8,
   "metadata": {},
   "outputs": [
    {
     "name": "stdout",
     "output_type": "stream",
     "text": [
      "WARNING:tensorflow:sample_weight modes were coerced from\n",
      "  ...\n",
      "    to  \n",
      "  ['...']\n",
      "WARNING:tensorflow:sample_weight modes were coerced from\n",
      "  ...\n",
      "    to  \n",
      "  ['...']\n",
      "Train for 100 steps, validate for 50 steps\n",
      "Epoch 1/20\n",
      "100/100 - 275s - loss: 0.4907 - accuracy: 0.7710 - val_loss: 0.4261 - val_accuracy: 0.8830\n",
      "Epoch 2/20\n",
      "100/100 - 259s - loss: 0.3833 - accuracy: 0.8275 - val_loss: 0.2375 - val_accuracy: 0.9400\n",
      "Epoch 3/20\n",
      "100/100 - 253s - loss: 0.3610 - accuracy: 0.8410 - val_loss: 0.3322 - val_accuracy: 0.9330\n",
      "Epoch 4/20\n",
      "100/100 - 207s - loss: 0.3090 - accuracy: 0.8710 - val_loss: 0.3385 - val_accuracy: 0.9350\n",
      "Epoch 5/20\n",
      "100/100 - 223s - loss: 0.3339 - accuracy: 0.8570 - val_loss: 0.2081 - val_accuracy: 0.9580\n",
      "Epoch 6/20\n",
      "100/100 - 277s - loss: 0.2962 - accuracy: 0.8755 - val_loss: 0.2387 - val_accuracy: 0.9520\n",
      "Epoch 7/20\n",
      "100/100 - 226s - loss: 0.2803 - accuracy: 0.8950 - val_loss: 0.2875 - val_accuracy: 0.9540\n",
      "Epoch 8/20\n",
      "100/100 - 294s - loss: 0.2765 - accuracy: 0.8845 - val_loss: 0.3213 - val_accuracy: 0.9510\n",
      "Epoch 9/20\n",
      "100/100 - 246s - loss: 0.2733 - accuracy: 0.8910 - val_loss: 0.6195 - val_accuracy: 0.9270\n",
      "Epoch 10/20\n",
      "100/100 - 283s - loss: 0.2797 - accuracy: 0.8925 - val_loss: 0.4147 - val_accuracy: 0.9470\n",
      "Epoch 11/20\n",
      "100/100 - 315s - loss: 0.2579 - accuracy: 0.8965 - val_loss: 0.3030 - val_accuracy: 0.9620\n",
      "Epoch 12/20\n",
      "100/100 - 320s - loss: 0.2635 - accuracy: 0.8895 - val_loss: 0.5250 - val_accuracy: 0.9420\n",
      "Epoch 13/20\n",
      "100/100 - 335s - loss: 0.2685 - accuracy: 0.8900 - val_loss: 0.4626 - val_accuracy: 0.9550\n",
      "Epoch 14/20\n",
      "100/100 - 331s - loss: 0.2693 - accuracy: 0.8930 - val_loss: 0.4882 - val_accuracy: 0.9560\n",
      "Epoch 15/20\n",
      "100/100 - 271s - loss: 0.2499 - accuracy: 0.8940 - val_loss: 0.5256 - val_accuracy: 0.9530\n",
      "Epoch 16/20\n",
      "100/100 - 321s - loss: 0.2460 - accuracy: 0.8995 - val_loss: 0.4115 - val_accuracy: 0.9580\n",
      "Epoch 17/20\n",
      "100/100 - 315s - loss: 0.2299 - accuracy: 0.9010 - val_loss: 0.3716 - val_accuracy: 0.9590\n",
      "Epoch 18/20\n",
      "100/100 - 274s - loss: 0.2537 - accuracy: 0.9045 - val_loss: 0.4631 - val_accuracy: 0.9490\n",
      "Epoch 19/20\n",
      "100/100 - 234s - loss: 0.2388 - accuracy: 0.9070 - val_loss: 0.6442 - val_accuracy: 0.9430\n",
      "Epoch 20/20\n",
      "100/100 - 240s - loss: 0.2249 - accuracy: 0.9065 - val_loss: 0.5341 - val_accuracy: 0.9500\n"
     ]
    }
   ],
   "source": [
    "history=model.fit(train_generator,\n",
    "                 validation_data=validation_generator,\n",
    "                 steps_per_epoch=100,\n",
    "                 epochs=20,\n",
    "                 validation_steps=50,\n",
    "                 verbose=2\n",
    "                 )"
   ]
  },
  {
   "cell_type": "code",
   "execution_count": 9,
   "metadata": {},
   "outputs": [
    {
     "data": {
      "image/png": "[encoded data removed]",
      "text/plain": [
       "<Figure size 432x288 with 1 Axes>"
      ]
     },
     "metadata": {
      "needs_background": "light"
     },
     "output_type": "display_data"
    },
    {
     "data": {
      "text/plain": [
       "<Figure size 432x288 with 0 Axes>"
      ]
     },
     "metadata": {},
     "output_type": "display_data"
    }
   ],
   "source": [
    "import matplotlib.pyplot as plt\n",
    "acc = history.history['accuracy']\n",
    "val_acc = history.history['val_accuracy']\n",
    "loss = history.history['loss']\n",
    "val_loss = history.history['val_loss']\n",
    "\n",
    "epochs = range(len(acc))\n",
    "\n",
    "plt.plot(epochs, acc, 'r', label='Training accuracy')\n",
    "plt.plot(epochs, val_acc, 'b', label='Validation accuracy')\n",
    "plt.title('Training and validation accuracy')\n",
    "plt.legend(loc=0)\n",
    "plt.figure()\n",
    "\n",
    "\n",
    "plt.show()"
   ]
  },
  {
   "cell_type": "code",
   "execution_count": null,
   "metadata": {},
   "outputs": [],
   "source": []
  }
 ],
 "metadata": {
  "kernelspec": {
   "display_name": "Python 3",
   "language": "python",
   "name": "python3"
  },
  "language_info": {
   "codemirror_mode": {
    "name": "ipython",
    "version": 3
   },
   "file_extension": ".py",
   "mimetype": "text/x-python",
   "name": "python",
   "nbconvert_exporter": "python",
   "pygments_lexer": "ipython3",
   "version": "3.7.7"
  }
 },
 "nbformat": 4,
 "nbformat_minor": 4
}

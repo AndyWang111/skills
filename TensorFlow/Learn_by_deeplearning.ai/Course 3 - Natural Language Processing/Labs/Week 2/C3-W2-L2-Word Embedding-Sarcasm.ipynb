{
 "cells": [
  {
   "cell_type": "code",
   "execution_count": 1,
   "metadata": {},
   "outputs": [],
   "source": [
    "import json\n",
    "import tensorflow as tf\n",
    "\n",
    "from tensorflow.keras.preprocessing.text import Tokenizer\n",
    "from tensorflow.keras.preprocessing.sequence import pad_sequences"
   ]
  },
  {
   "cell_type": "code",
   "execution_count": 2,
   "metadata": {},
   "outputs": [],
   "source": [
    "vocab_size = 10000\n",
    "embedding_dim = 16\n",
    "max_length = 100\n",
    "trunc_type='post'\n",
    "padding_type='post'\n",
    "oov_tok = \"<OOV>\"\n",
    "training_size = 20000"
   ]
  },
  {
   "cell_type": "code",
   "execution_count": 3,
   "metadata": {},
   "outputs": [
    {
     "name": "stdout",
     "output_type": "stream",
     "text": [
      "--2020-07-24 20:55:03--  https://storage.googleapis.com/laurencemoroney-blog.appspot.com/sarcasm.json\n",
      "正在解析主机 storage.googleapis.com (storage.googleapis.com)... 34.64.4.80, 34.64.4.112, 34.64.4.16\n",
      "正在连接 storage.googleapis.com (storage.googleapis.com)|34.64.4.80|:443... 已连接。\n",
      "已发出 HTTP 请求，正在等待回应... 200 OK\n",
      "长度：5643545 (5.4M) [application/json]\n",
      "正在保存至: “/tmp/sarcasm.json”\n",
      "\n",
      "/tmp/sarcasm.json   100%[===================>]   5.38M   245KB/s  用时 25s       \n",
      "\n",
      "2020-07-24 20:55:34 (224 KB/s) - 已保存 “/tmp/sarcasm.json” [5643545/5643545])\n",
      "\n"
     ]
    }
   ],
   "source": [
    "!wget --no-check-certificate \\\n",
    "    https://storage.googleapis.com/laurencemoroney-blog.appspot.com/sarcasm.json \\\n",
    "    -O /tmp/sarcasm.json"
   ]
  },
  {
   "cell_type": "code",
   "execution_count": 4,
   "metadata": {},
   "outputs": [],
   "source": [
    "with open(\"/tmp/sarcasm.json\", 'r') as f:\n",
    "    datastore = json.load(f)\n",
    "\n",
    "sentences = []\n",
    "labels = []\n",
    "\n",
    "for item in datastore:\n",
    "    sentences.append(item['headline'])\n",
    "    labels.append(item['is_sarcastic'])"
   ]
  },
  {
   "cell_type": "code",
   "execution_count": 5,
   "metadata": {},
   "outputs": [],
   "source": [
    "training_sentences = sentences[0:training_size]\n",
    "testing_sentences = sentences[training_size:]\n",
    "training_labels = labels[0:training_size]\n",
    "testing_labels = labels[training_size:]"
   ]
  },
  {
   "cell_type": "code",
   "execution_count": 6,
   "metadata": {},
   "outputs": [],
   "source": [
    "tokenizer = Tokenizer(num_words=vocab_size, oov_token=oov_tok)\n",
    "tokenizer.fit_on_texts(training_sentences)\n",
    "\n",
    "word_index = tokenizer.word_index\n",
    "\n",
    "training_sequences = tokenizer.texts_to_sequences(training_sentences)\n",
    "training_padded = pad_sequences(training_sequences, maxlen=max_length, padding=padding_type, truncating=trunc_type)\n",
    "\n",
    "testing_sequences = tokenizer.texts_to_sequences(testing_sentences)\n",
    "testing_padded = pad_sequences(testing_sequences, maxlen=max_length, padding=padding_type, truncating=trunc_type)"
   ]
  },
  {
   "cell_type": "code",
   "execution_count": 7,
   "metadata": {},
   "outputs": [],
   "source": [
    "# Need this block to get it to work with TensorFlow 2\n",
    "import numpy as np\n",
    "training_padded = np.array(training_padded)\n",
    "training_labels = np.array(training_labels)\n",
    "testing_padded = np.array(testing_padded)\n",
    "testing_labels = np.array(testing_labels)"
   ]
  },
  {
   "cell_type": "code",
   "execution_count": 8,
   "metadata": {},
   "outputs": [
    {
     "name": "stdout",
     "output_type": "stream",
     "text": [
      "Model: \"sequential\"\n",
      "_________________________________________________________________\n",
      "Layer (type)                 Output Shape              Param #   \n",
      "=================================================================\n",
      "embedding (Embedding)        (None, 100, 16)           160000    \n",
      "_________________________________________________________________\n",
      "global_average_pooling1d (Gl (None, 16)                0         \n",
      "_________________________________________________________________\n",
      "dense (Dense)                (None, 24)                408       \n",
      "_________________________________________________________________\n",
      "dense_1 (Dense)              (None, 1)                 25        \n",
      "=================================================================\n",
      "Total params: 160,433\n",
      "Trainable params: 160,433\n",
      "Non-trainable params: 0\n",
      "_________________________________________________________________\n"
     ]
    }
   ],
   "source": [
    "model = tf.keras.Sequential([\n",
    "    tf.keras.layers.Embedding(vocab_size, embedding_dim, input_length=max_length),\n",
    "    tf.keras.layers.GlobalAveragePooling1D(),\n",
    "    tf.keras.layers.Dense(24, activation='relu'),\n",
    "    tf.keras.layers.Dense(1, activation='sigmoid')\n",
    "])\n",
    "model.compile(loss='binary_crossentropy',optimizer='adam',metrics=['accuracy'])\n",
    "\n",
    "model.summary()"
   ]
  },
  {
   "cell_type": "code",
   "execution_count": 9,
   "metadata": {},
   "outputs": [
    {
     "name": "stdout",
     "output_type": "stream",
     "text": [
      "Train on 20000 samples, validate on 6709 samples\n",
      "Epoch 1/30\n",
      "20000/20000 - 2s - loss: 0.6679 - accuracy: 0.5865 - val_loss: 0.5971 - val_accuracy: 0.8024\n",
      "Epoch 2/30\n",
      "20000/20000 - 2s - loss: 0.4415 - accuracy: 0.8292 - val_loss: 0.3911 - val_accuracy: 0.8293\n",
      "Epoch 3/30\n",
      "20000/20000 - 2s - loss: 0.3156 - accuracy: 0.8747 - val_loss: 0.3619 - val_accuracy: 0.8404\n",
      "Epoch 4/30\n",
      "20000/20000 - 2s - loss: 0.2632 - accuracy: 0.8969 - val_loss: 0.3485 - val_accuracy: 0.8480\n",
      "Epoch 5/30\n",
      "20000/20000 - 2s - loss: 0.2272 - accuracy: 0.9116 - val_loss: 0.3429 - val_accuracy: 0.8548\n",
      "Epoch 6/30\n",
      "20000/20000 - 2s - loss: 0.2003 - accuracy: 0.9236 - val_loss: 0.3519 - val_accuracy: 0.8504\n",
      "Epoch 7/30\n",
      "20000/20000 - 1s - loss: 0.1788 - accuracy: 0.9324 - val_loss: 0.3618 - val_accuracy: 0.8529\n",
      "Epoch 8/30\n",
      "20000/20000 - 2s - loss: 0.1592 - accuracy: 0.9416 - val_loss: 0.3821 - val_accuracy: 0.8489\n",
      "Epoch 9/30\n",
      "20000/20000 - 2s - loss: 0.1441 - accuracy: 0.9474 - val_loss: 0.3895 - val_accuracy: 0.8539\n",
      "Epoch 10/30\n",
      "20000/20000 - 2s - loss: 0.1297 - accuracy: 0.9532 - val_loss: 0.4082 - val_accuracy: 0.8526\n",
      "Epoch 11/30\n",
      "20000/20000 - 2s - loss: 0.1203 - accuracy: 0.9574 - val_loss: 0.4389 - val_accuracy: 0.8450\n",
      "Epoch 12/30\n",
      "20000/20000 - 2s - loss: 0.1078 - accuracy: 0.9625 - val_loss: 0.4515 - val_accuracy: 0.8486\n",
      "Epoch 13/30\n",
      "20000/20000 - 2s - loss: 0.0985 - accuracy: 0.9663 - val_loss: 0.4773 - val_accuracy: 0.8460\n",
      "Epoch 14/30\n",
      "20000/20000 - 2s - loss: 0.0906 - accuracy: 0.9703 - val_loss: 0.5032 - val_accuracy: 0.8413\n",
      "Epoch 15/30\n",
      "20000/20000 - 2s - loss: 0.0823 - accuracy: 0.9728 - val_loss: 0.5343 - val_accuracy: 0.8393\n",
      "Epoch 16/30\n",
      "20000/20000 - 1s - loss: 0.0776 - accuracy: 0.9738 - val_loss: 0.5726 - val_accuracy: 0.8344\n",
      "Epoch 17/30\n",
      "20000/20000 - 2s - loss: 0.0689 - accuracy: 0.9772 - val_loss: 0.5979 - val_accuracy: 0.8341\n",
      "Epoch 18/30\n",
      "20000/20000 - 1s - loss: 0.0650 - accuracy: 0.9793 - val_loss: 0.6269 - val_accuracy: 0.8325\n",
      "Epoch 19/30\n",
      "20000/20000 - 1s - loss: 0.0587 - accuracy: 0.9816 - val_loss: 0.6718 - val_accuracy: 0.8287\n",
      "Epoch 20/30\n",
      "20000/20000 - 1s - loss: 0.0550 - accuracy: 0.9830 - val_loss: 0.7277 - val_accuracy: 0.8229\n",
      "Epoch 21/30\n",
      "20000/20000 - 1s - loss: 0.0498 - accuracy: 0.9839 - val_loss: 0.7312 - val_accuracy: 0.8269\n",
      "Epoch 22/30\n",
      "20000/20000 - 1s - loss: 0.0469 - accuracy: 0.9855 - val_loss: 0.7653 - val_accuracy: 0.8243\n",
      "Epoch 23/30\n",
      "20000/20000 - 1s - loss: 0.0423 - accuracy: 0.9873 - val_loss: 0.7959 - val_accuracy: 0.8243\n",
      "Epoch 24/30\n",
      "20000/20000 - 1s - loss: 0.0398 - accuracy: 0.9879 - val_loss: 0.8488 - val_accuracy: 0.8198\n",
      "Epoch 25/30\n",
      "20000/20000 - 1s - loss: 0.0365 - accuracy: 0.9891 - val_loss: 0.8697 - val_accuracy: 0.8193\n",
      "Epoch 26/30\n",
      "20000/20000 - 1s - loss: 0.0332 - accuracy: 0.9902 - val_loss: 0.9049 - val_accuracy: 0.8189\n",
      "Epoch 27/30\n",
      "20000/20000 - 1s - loss: 0.0315 - accuracy: 0.9908 - val_loss: 0.9484 - val_accuracy: 0.8159\n",
      "Epoch 28/30\n",
      "20000/20000 - 1s - loss: 0.0282 - accuracy: 0.9917 - val_loss: 0.9818 - val_accuracy: 0.8164\n",
      "Epoch 29/30\n",
      "20000/20000 - 1s - loss: 0.0250 - accuracy: 0.9934 - val_loss: 1.0279 - val_accuracy: 0.8147\n",
      "Epoch 30/30\n",
      "20000/20000 - 1s - loss: 0.0236 - accuracy: 0.9934 - val_loss: 1.0637 - val_accuracy: 0.8146\n"
     ]
    }
   ],
   "source": [
    "num_epochs = 30\n",
    "history = model.fit(training_padded, \n",
    "                    training_labels, \n",
    "                    epochs=num_epochs, \n",
    "                    validation_data=(testing_padded, testing_labels), \n",
    "                    verbose=2)"
   ]
  },
  {
   "cell_type": "code",
   "execution_count": 10,
   "metadata": {},
   "outputs": [
    {
     "data": {
      "image/png": "[encoded data removed]",
      "text/plain": [
       "<Figure size 432x288 with 1 Axes>"
      ]
     },
     "metadata": {
      "needs_background": "light"
     },
     "output_type": "display_data"
    },
    {
     "data": {
      "image/png": "[encoded data removed]",
      "text/plain": [
       "<Figure size 432x288 with 1 Axes>"
      ]
     },
     "metadata": {
      "needs_background": "light"
     },
     "output_type": "display_data"
    }
   ],
   "source": [
    "import matplotlib.pyplot as plt\n",
    "\n",
    "def plot_graphs(history, string):\n",
    "    plt.plot(history.history[string])\n",
    "    plt.plot(history.history['val_'+string])\n",
    "    plt.xlabel(\"Epochs\")\n",
    "    plt.ylabel(string)\n",
    "    plt.legend([string, 'val_'+string])\n",
    "    plt.show()\n",
    "  \n",
    "\n",
    "plot_graphs(history, \"accuracy\")\n",
    "plot_graphs(history, \"loss\")"
   ]
  },
  {
   "cell_type": "code",
   "execution_count": 11,
   "metadata": {},
   "outputs": [
    {
     "name": "stdout",
     "output_type": "stream",
     "text": [
      "former <OOV> store clerk sues over secret 'black <OOV> for minority shoppers ? ? ? ? ? ? ? ? ? ? ? ? ? ? ? ? ? ? ? ? ? ? ? ? ? ? ? ? ? ? ? ? ? ? ? ? ? ? ? ? ? ? ? ? ? ? ? ? ? ? ? ? ? ? ? ? ? ? ? ? ? ? ? ? ? ? ? ? ? ? ? ? ? ? ? ? ? ? ? ? ? ? ? ? ? ? ? ?\n",
      "mom starting to fear son's web series closest thing she will have to grandchild\n",
      "1\n"
     ]
    }
   ],
   "source": [
    "reverse_word_index = dict([(value, key) for (key, value) in word_index.items()])\n",
    "\n",
    "def decode_sentence(text):\n",
    "    return ' '.join([reverse_word_index.get(i, '?') for i in text])\n",
    "\n",
    "print(decode_sentence(training_padded[0]))\n",
    "print(training_sentences[2])\n",
    "print(labels[2])"
   ]
  },
  {
   "cell_type": "code",
   "execution_count": 12,
   "metadata": {},
   "outputs": [
    {
     "name": "stdout",
     "output_type": "stream",
     "text": [
      "(10000, 16)\n"
     ]
    }
   ],
   "source": [
    "e = model.layers[0]\n",
    "weights = e.get_weights()[0]\n",
    "print(weights.shape) # shape: (vocab_size, embedding_dim)"
   ]
  },
  {
   "cell_type": "code",
   "execution_count": 13,
   "metadata": {},
   "outputs": [],
   "source": [
    "import io\n",
    "\n",
    "out_v = io.open('sarcasm_vecs.tsv', 'w', encoding='utf-8')\n",
    "out_m = io.open('sarcasm_meta.tsv', 'w', encoding='utf-8')\n",
    "for word_num in range(1, vocab_size):\n",
    "    word = reverse_word_index[word_num]\n",
    "    embeddings = weights[word_num]\n",
    "    out_m.write(word + \"\\n\")\n",
    "    out_v.write('\\t'.join([str(x) for x in embeddings]) + \"\\n\")\n",
    "out_v.close()\n",
    "out_m.close()"
   ]
  },
  {
   "cell_type": "code",
   "execution_count": 14,
   "metadata": {},
   "outputs": [
    {
     "name": "stdout",
     "output_type": "stream",
     "text": [
      "[[9.5862901e-01]\n",
      " [1.0318089e-05]]\n"
     ]
    }
   ],
   "source": [
    "sentence = [\"granny starting to fear spiders in the garden might be real\", \"game of thrones season finale showing this sunday night\"]\n",
    "sequences = tokenizer.texts_to_sequences(sentence)\n",
    "padded = pad_sequences(sequences, maxlen=max_length, padding=padding_type, truncating=trunc_type)\n",
    "print(model.predict(padded))"
   ]
  },
  {
   "cell_type": "code",
   "execution_count": null,
   "metadata": {},
   "outputs": [],
   "source": []
  }
 ],
 "metadata": {
  "kernelspec": {
   "display_name": "Python 3",
   "language": "python",
   "name": "python3"
  },
  "language_info": {
   "codemirror_mode": {
    "name": "ipython",
    "version": 3
   },
   "file_extension": ".py",
   "mimetype": "text/x-python",
   "name": "python",
   "nbconvert_exporter": "python",
   "pygments_lexer": "ipython3",
   "version": "3.7.7"
  }
 },
 "nbformat": 4,
 "nbformat_minor": 4
}

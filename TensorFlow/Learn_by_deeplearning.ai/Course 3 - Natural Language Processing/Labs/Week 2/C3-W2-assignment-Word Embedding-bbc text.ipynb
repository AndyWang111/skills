{
 "cells": [
  {
   "cell_type": "code",
   "execution_count": 1,
   "metadata": {},
   "outputs": [],
   "source": [
    "import csv\n",
    "import tensorflow as tf\n",
    "import numpy as np\n",
    "from tensorflow.keras.preprocessing.text import Tokenizer\n",
    "from tensorflow.keras.preprocessing.sequence import pad_sequences"
   ]
  },
  {
   "cell_type": "code",
   "execution_count": 2,
   "metadata": {},
   "outputs": [
    {
     "name": "stdout",
     "output_type": "stream",
     "text": [
      "--2020-07-24 21:26:06--  https://storage.googleapis.com/laurencemoroney-blog.appspot.com/bbc-text.csv\n",
      "正在解析主机 storage.googleapis.com (storage.googleapis.com)... 34.64.4.16, 34.64.4.112, 34.64.4.80\n",
      "正在连接 storage.googleapis.com (storage.googleapis.com)|34.64.4.16|:443... 已连接。\n",
      "已发出 HTTP 请求，正在等待回应... 200 OK\n",
      "长度：5057493 (4.8M) [application/octet-stream]\n",
      "正在保存至: “/tmp/bbc-text.csv”\n",
      "\n",
      "/tmp/bbc-text.csv   100%[===================>]   4.82M  83.4KB/s  用时 46s       \n",
      "\n",
      "2020-07-24 21:26:53 (108 KB/s) - 已保存 “/tmp/bbc-text.csv” [5057493/5057493])\n",
      "\n"
     ]
    }
   ],
   "source": [
    "!wget --no-check-certificate \\\n",
    "    https://storage.googleapis.com/laurencemoroney-blog.appspot.com/bbc-text.csv \\\n",
    "    -O /tmp/bbc-text.csv"
   ]
  },
  {
   "cell_type": "code",
   "execution_count": 3,
   "metadata": {},
   "outputs": [],
   "source": [
    "vocab_size = 1000\n",
    "embedding_dim = 16\n",
    "max_length = 120\n",
    "trunc_type='post'\n",
    "padding_type='post'\n",
    "oov_tok = \"<OOV>\"\n",
    "training_portion = .8"
   ]
  },
  {
   "cell_type": "code",
   "execution_count": 4,
   "metadata": {},
   "outputs": [
    {
     "name": "stdout",
     "output_type": "stream",
     "text": [
      "153\n"
     ]
    }
   ],
   "source": [
    "sentences = []\n",
    "labels = []\n",
    "stopwords = [ \"a\", \"about\", \"above\", \"after\", \"again\", \"against\", \"all\", \"am\", \"an\", \"and\", \"any\", \"are\", \"as\", \"at\", \"be\", \"because\", \"been\", \"before\", \"being\", \"below\", \"between\", \"both\", \"but\", \"by\", \"could\", \"did\", \"do\", \"does\", \"doing\", \"down\", \"during\", \"each\", \"few\", \"for\", \"from\", \"further\", \"had\", \"has\", \"have\", \"having\", \"he\", \"he'd\", \"he'll\", \"he's\", \"her\", \"here\", \"here's\", \"hers\", \"herself\", \"him\", \"himself\", \"his\", \"how\", \"how's\", \"i\", \"i'd\", \"i'll\", \"i'm\", \"i've\", \"if\", \"in\", \"into\", \"is\", \"it\", \"it's\", \"its\", \"itself\", \"let's\", \"me\", \"more\", \"most\", \"my\", \"myself\", \"nor\", \"of\", \"on\", \"once\", \"only\", \"or\", \"other\", \"ought\", \"our\", \"ours\", \"ourselves\", \"out\", \"over\", \"own\", \"same\", \"she\", \"she'd\", \"she'll\", \"she's\", \"should\", \"so\", \"some\", \"such\", \"than\", \"that\", \"that's\", \"the\", \"their\", \"theirs\", \"them\", \"themselves\", \"then\", \"there\", \"there's\", \"these\", \"they\", \"they'd\", \"they'll\", \"they're\", \"they've\", \"this\", \"those\", \"through\", \"to\", \"too\", \"under\", \"until\", \"up\", \"very\", \"was\", \"we\", \"we'd\", \"we'll\", \"we're\", \"we've\", \"were\", \"what\", \"what's\", \"when\", \"when's\", \"where\", \"where's\", \"which\", \"while\", \"who\", \"who's\", \"whom\", \"why\", \"why's\", \"with\", \"would\", \"you\", \"you'd\", \"you'll\", \"you're\", \"you've\", \"your\", \"yours\", \"yourself\", \"yourselves\" ]\n",
    "print(len(stopwords))"
   ]
  },
  {
   "cell_type": "code",
   "execution_count": 5,
   "metadata": {},
   "outputs": [
    {
     "name": "stdout",
     "output_type": "stream",
     "text": [
      "2225\n",
      "2225\n",
      "tv future hands viewers home theatre systems  plasma high-definition tvs  digital video recorders moving living room  way people watch tv will radically different five years  time.  according expert panel gathered annual consumer electronics show las vegas discuss new technologies will impact one favourite pastimes. us leading trend  programmes content will delivered viewers via home networks  cable  satellite  telecoms companies  broadband service providers front rooms portable devices.  one talked-about technologies ces digital personal video recorders (dvr pvr). set-top boxes  like us s tivo uk s sky+ system  allow people record  store  play  pause forward wind tv programmes want.  essentially  technology allows much personalised tv. also built-in high-definition tv sets  big business japan us  slower take off europe lack high-definition programming. not can people forward wind adverts  can also forget abiding network channel schedules  putting together a-la-carte entertainment. us networks cable satellite companies worried means terms advertising revenues well  brand identity  viewer loyalty channels. although us leads technology moment  also concern raised europe  particularly growing uptake services like sky+.  happens today  will see nine months years  time uk   adam hume  bbc broadcast s futurologist told bbc news website. likes bbc  no issues lost advertising revenue yet. pressing issue moment commercial uk broadcasters  brand loyalty important everyone.  will talking content brands rather network brands   said tim hanlon  brand communications firm starcom mediavest.  reality broadband connections  anybody can producer content.  added:  challenge now hard promote programme much choice.   means  said stacey jolna  senior vice president tv guide tv group  way people find content want watch simplified tv viewers. means networks  us terms  channels take leaf google s book search engine future  instead scheduler help people find want watch. kind channel model might work younger ipod generation used taking control gadgets play them. might not suit everyone  panel recognised. older generations comfortable familiar schedules channel brands know getting. perhaps not want much choice put hands  mr hanlon suggested.  end  kids just diapers pushing buttons already - everything possible available   said mr hanlon.  ultimately  consumer will tell market want.   50 000 new gadgets technologies showcased ces  many enhancing tv-watching experience. high-definition tv sets everywhere many new models lcd (liquid crystal display) tvs launched dvr capability built  instead external boxes. one example launched show humax s 26-inch lcd tv 80-hour tivo dvr dvd recorder. one us s biggest satellite tv companies  directtv  even launched branded dvr show 100-hours recording capability  instant replay  search function. set can pause rewind tv 90 hours. microsoft chief bill gates announced pre-show keynote speech partnership tivo  called tivotogo  means people can play recorded programmes windows pcs mobile devices. reflect increasing trend freeing multimedia people can watch want  want.\n"
     ]
    }
   ],
   "source": [
    "with open(\"/tmp/bbc-text.csv\", 'r') as csvfile:\n",
    "    reader = csv.reader(csvfile, delimiter=',')\n",
    "    next(reader)\n",
    "    for row in reader:\n",
    "        labels.append(row[0])\n",
    "        sentence = row[1]\n",
    "        for word in stopwords:\n",
    "            token = \" \" + word + \" \"\n",
    "            sentence = sentence.replace(token, \" \")\n",
    "        sentences.append(sentence)\n",
    "\n",
    "print(len(labels))\n",
    "print(len(sentences))\n",
    "print(sentences[0])"
   ]
  },
  {
   "cell_type": "code",
   "execution_count": 6,
   "metadata": {},
   "outputs": [
    {
     "name": "stdout",
     "output_type": "stream",
     "text": [
      "1780\n",
      "1780\n",
      "1780\n",
      "445\n",
      "445\n"
     ]
    }
   ],
   "source": [
    "train_size = int(len(sentences) * training_portion)\n",
    "\n",
    "train_sentences = sentences[:train_size]\n",
    "train_labels = labels[:train_size]\n",
    "\n",
    "validation_sentences = sentences[train_size:]\n",
    "validation_labels = labels[train_size:]\n",
    "\n",
    "print(train_size)\n",
    "print(len(train_sentences))\n",
    "print(len(train_labels))\n",
    "print(len(validation_sentences))\n",
    "print(len(validation_labels))"
   ]
  },
  {
   "cell_type": "code",
   "execution_count": 7,
   "metadata": {},
   "outputs": [
    {
     "name": "stdout",
     "output_type": "stream",
     "text": [
      "449\n",
      "120\n",
      "200\n",
      "120\n",
      "192\n",
      "120\n"
     ]
    }
   ],
   "source": [
    "tokenizer = Tokenizer(num_words = vocab_size, oov_token=oov_tok)\n",
    "tokenizer.fit_on_texts(train_sentences)\n",
    "word_index = tokenizer.word_index\n",
    "\n",
    "train_sequences = tokenizer.texts_to_sequences(train_sentences)\n",
    "train_padded = pad_sequences(train_sequences, padding=padding_type, maxlen=max_length)\n",
    "\n",
    "print(len(train_sequences[0]))\n",
    "print(len(train_padded[0]))\n",
    "\n",
    "print(len(train_sequences[1]))\n",
    "print(len(train_padded[1]))\n",
    "\n",
    "print(len(train_sequences[10]))\n",
    "print(len(train_padded[10]))"
   ]
  },
  {
   "cell_type": "code",
   "execution_count": 8,
   "metadata": {},
   "outputs": [
    {
     "name": "stdout",
     "output_type": "stream",
     "text": [
      "445\n",
      "(445, 120)\n"
     ]
    }
   ],
   "source": [
    "validation_sequences = tokenizer.texts_to_sequences(validation_sentences)\n",
    "validation_padded = pad_sequences(validation_sequences, padding=padding_type, maxlen=max_length)\n",
    "\n",
    "print(len(validation_sequences))\n",
    "print(validation_padded.shape)"
   ]
  },
  {
   "cell_type": "code",
   "execution_count": 9,
   "metadata": {},
   "outputs": [
    {
     "name": "stdout",
     "output_type": "stream",
     "text": [
      "[4]\n",
      "[2]\n",
      "[1]\n",
      "(1780, 1)\n",
      "[5]\n",
      "[4]\n",
      "[3]\n",
      "(445, 1)\n"
     ]
    }
   ],
   "source": [
    "label_tokenizer = Tokenizer()\n",
    "label_tokenizer.fit_on_texts(labels)\n",
    "\n",
    "training_label_seq = np.array(label_tokenizer.texts_to_sequences(train_labels))\n",
    "validation_label_seq = np.array(label_tokenizer.texts_to_sequences(validation_labels))\n",
    "\n",
    "print(training_label_seq[0])\n",
    "print(training_label_seq[1])\n",
    "print(training_label_seq[2])\n",
    "print(training_label_seq.shape)\n",
    "\n",
    "print(validation_label_seq[0])\n",
    "print(validation_label_seq[1])\n",
    "print(validation_label_seq[2])\n",
    "print(validation_label_seq.shape)"
   ]
  },
  {
   "cell_type": "code",
   "execution_count": 10,
   "metadata": {},
   "outputs": [
    {
     "name": "stdout",
     "output_type": "stream",
     "text": [
      "Model: \"sequential\"\n",
      "_________________________________________________________________\n",
      "Layer (type)                 Output Shape              Param #   \n",
      "=================================================================\n",
      "embedding (Embedding)        (None, 120, 16)           16000     \n",
      "_________________________________________________________________\n",
      "global_average_pooling1d (Gl (None, 16)                0         \n",
      "_________________________________________________________________\n",
      "dense (Dense)                (None, 24)                408       \n",
      "_________________________________________________________________\n",
      "dense_1 (Dense)              (None, 6)                 150       \n",
      "=================================================================\n",
      "Total params: 16,558\n",
      "Trainable params: 16,558\n",
      "Non-trainable params: 0\n",
      "_________________________________________________________________\n"
     ]
    }
   ],
   "source": [
    "model = tf.keras.Sequential([\n",
    "    tf.keras.layers.Embedding(vocab_size, embedding_dim, input_length=max_length),\n",
    "    tf.keras.layers.GlobalAveragePooling1D(),\n",
    "    tf.keras.layers.Dense(24, activation='relu'),\n",
    "    tf.keras.layers.Dense(6, activation='softmax')\n",
    "])\n",
    "model.compile(loss='sparse_categorical_crossentropy',optimizer='adam',metrics=['accuracy'])\n",
    "model.summary()"
   ]
  },
  {
   "cell_type": "code",
   "execution_count": 11,
   "metadata": {},
   "outputs": [
    {
     "name": "stdout",
     "output_type": "stream",
     "text": [
      "Train on 1780 samples, validate on 445 samples\n",
      "Epoch 1/30\n",
      "1780/1780 - 0s - loss: 1.7689 - accuracy: 0.2287 - val_loss: 1.7365 - val_accuracy: 0.2315\n",
      "Epoch 2/30\n",
      "1780/1780 - 0s - loss: 1.6939 - accuracy: 0.2876 - val_loss: 1.6410 - val_accuracy: 0.4719\n",
      "Epoch 3/30\n",
      "1780/1780 - 0s - loss: 1.5797 - accuracy: 0.4691 - val_loss: 1.5134 - val_accuracy: 0.5101\n",
      "Epoch 4/30\n",
      "1780/1780 - 0s - loss: 1.4319 - accuracy: 0.5455 - val_loss: 1.3572 - val_accuracy: 0.5843\n",
      "Epoch 5/30\n",
      "1780/1780 - 0s - loss: 1.2459 - accuracy: 0.6056 - val_loss: 1.1663 - val_accuracy: 0.6629\n",
      "Epoch 6/30\n",
      "1780/1780 - 0s - loss: 1.0360 - accuracy: 0.8247 - val_loss: 0.9696 - val_accuracy: 0.7820\n",
      "Epoch 7/30\n",
      "1780/1780 - 0s - loss: 0.8385 - accuracy: 0.8534 - val_loss: 0.7982 - val_accuracy: 0.8742\n",
      "Epoch 8/30\n",
      "1780/1780 - 0s - loss: 0.6712 - accuracy: 0.9022 - val_loss: 0.6604 - val_accuracy: 0.8787\n",
      "Epoch 9/30\n",
      "1780/1780 - 0s - loss: 0.5407 - accuracy: 0.9191 - val_loss: 0.5515 - val_accuracy: 0.8876\n",
      "Epoch 10/30\n",
      "1780/1780 - 0s - loss: 0.4412 - accuracy: 0.9315 - val_loss: 0.4712 - val_accuracy: 0.8944\n",
      "Epoch 11/30\n",
      "1780/1780 - 0s - loss: 0.3648 - accuracy: 0.9393 - val_loss: 0.4132 - val_accuracy: 0.9101\n",
      "Epoch 12/30\n",
      "1780/1780 - 0s - loss: 0.3071 - accuracy: 0.9461 - val_loss: 0.3637 - val_accuracy: 0.9146\n",
      "Epoch 13/30\n",
      "1780/1780 - 0s - loss: 0.2606 - accuracy: 0.9539 - val_loss: 0.3270 - val_accuracy: 0.9169\n",
      "Epoch 14/30\n",
      "1780/1780 - 0s - loss: 0.2251 - accuracy: 0.9590 - val_loss: 0.3025 - val_accuracy: 0.9213\n",
      "Epoch 15/30\n",
      "1780/1780 - 0s - loss: 0.1961 - accuracy: 0.9624 - val_loss: 0.2802 - val_accuracy: 0.9213\n",
      "Epoch 16/30\n",
      "1780/1780 - 0s - loss: 0.1718 - accuracy: 0.9691 - val_loss: 0.2612 - val_accuracy: 0.9213\n",
      "Epoch 17/30\n",
      "1780/1780 - 0s - loss: 0.1502 - accuracy: 0.9713 - val_loss: 0.2457 - val_accuracy: 0.9281\n",
      "Epoch 18/30\n",
      "1780/1780 - 0s - loss: 0.1336 - accuracy: 0.9787 - val_loss: 0.2356 - val_accuracy: 0.9281\n",
      "Epoch 19/30\n",
      "1780/1780 - 0s - loss: 0.1189 - accuracy: 0.9803 - val_loss: 0.2222 - val_accuracy: 0.9303\n",
      "Epoch 20/30\n",
      "1780/1780 - 0s - loss: 0.1073 - accuracy: 0.9826 - val_loss: 0.2178 - val_accuracy: 0.9326\n",
      "Epoch 21/30\n",
      "1780/1780 - 0s - loss: 0.0965 - accuracy: 0.9865 - val_loss: 0.2093 - val_accuracy: 0.9303\n",
      "Epoch 22/30\n",
      "1780/1780 - 0s - loss: 0.0877 - accuracy: 0.9904 - val_loss: 0.2028 - val_accuracy: 0.9348\n",
      "Epoch 23/30\n",
      "1780/1780 - 0s - loss: 0.0788 - accuracy: 0.9910 - val_loss: 0.2010 - val_accuracy: 0.9371\n",
      "Epoch 24/30\n",
      "1780/1780 - 0s - loss: 0.0711 - accuracy: 0.9927 - val_loss: 0.1942 - val_accuracy: 0.9348\n",
      "Epoch 25/30\n",
      "1780/1780 - 0s - loss: 0.0645 - accuracy: 0.9938 - val_loss: 0.1907 - val_accuracy: 0.9371\n",
      "Epoch 26/30\n",
      "1780/1780 - 0s - loss: 0.0585 - accuracy: 0.9949 - val_loss: 0.1875 - val_accuracy: 0.9371\n",
      "Epoch 27/30\n",
      "1780/1780 - 0s - loss: 0.0533 - accuracy: 0.9961 - val_loss: 0.1845 - val_accuracy: 0.9371\n",
      "Epoch 28/30\n",
      "1780/1780 - 0s - loss: 0.0486 - accuracy: 0.9961 - val_loss: 0.1825 - val_accuracy: 0.9371\n",
      "Epoch 29/30\n",
      "1780/1780 - 0s - loss: 0.0441 - accuracy: 0.9972 - val_loss: 0.1827 - val_accuracy: 0.9393\n",
      "Epoch 30/30\n",
      "1780/1780 - 0s - loss: 0.0401 - accuracy: 0.9972 - val_loss: 0.1788 - val_accuracy: 0.9348\n"
     ]
    }
   ],
   "source": [
    "num_epochs = 30\n",
    "history = model.fit(train_padded, training_label_seq, epochs=num_epochs, \\\n",
    "                    validation_data=(validation_padded, validation_label_seq), verbose=2)"
   ]
  },
  {
   "cell_type": "code",
   "execution_count": 12,
   "metadata": {},
   "outputs": [
    {
     "data": {
      "image/png": "[encoded data removed]",
      "text/plain": [
       "<Figure size 432x288 with 1 Axes>"
      ]
     },
     "metadata": {
      "needs_background": "light"
     },
     "output_type": "display_data"
    },
    {
     "data": {
      "image/png": "[encoded data removed]",
      "text/plain": [
       "<Figure size 432x288 with 1 Axes>"
      ]
     },
     "metadata": {
      "needs_background": "light"
     },
     "output_type": "display_data"
    }
   ],
   "source": [
    "import matplotlib.pyplot as plt\n",
    "\n",
    "\n",
    "def plot_graphs(history, string):\n",
    "    plt.plot(history.history[string])\n",
    "    plt.plot(history.history['val_'+string])\n",
    "    plt.xlabel(\"Epochs\")\n",
    "    plt.ylabel(string)\n",
    "    plt.legend([string, 'val_'+string])\n",
    "    plt.show()\n",
    "  \n",
    "plot_graphs(history, \"accuracy\")\n",
    "plot_graphs(history, \"loss\")"
   ]
  },
  {
   "cell_type": "code",
   "execution_count": 13,
   "metadata": {},
   "outputs": [],
   "source": [
    "reverse_word_index = dict([(value, key) for (key, value) in word_index.items()])\n",
    "\n",
    "def decode_sentence(text):\n",
    "    return ' '.join([reverse_word_index.get(i, '?') for i in text])"
   ]
  },
  {
   "cell_type": "code",
   "execution_count": 14,
   "metadata": {},
   "outputs": [
    {
     "name": "stdout",
     "output_type": "stream",
     "text": [
      "(1000, 16)\n"
     ]
    }
   ],
   "source": [
    "e = model.layers[0]\n",
    "weights = e.get_weights()[0]\n",
    "print(weights.shape) # shape: (vocab_size, embedding_dim)"
   ]
  },
  {
   "cell_type": "code",
   "execution_count": 15,
   "metadata": {},
   "outputs": [],
   "source": [
    "import io\n",
    "\n",
    "out_v = io.open('bbc_vecs.tsv', 'w', encoding='utf-8')\n",
    "out_m = io.open('bbc_meta.tsv', 'w', encoding='utf-8')\n",
    "for word_num in range(1, vocab_size):\n",
    "    word = reverse_word_index[word_num]\n",
    "    embeddings = weights[word_num]\n",
    "    out_m.write(word + \"\\n\")\n",
    "    out_v.write('\\t'.join([str(x) for x in embeddings]) + \"\\n\")\n",
    "out_v.close()\n",
    "out_m.close()"
   ]
  }
 ],
 "metadata": {
  "kernelspec": {
   "display_name": "Python 3",
   "language": "python",
   "name": "python3"
  },
  "language_info": {
   "codemirror_mode": {
    "name": "ipython",
    "version": 3
   },
   "file_extension": ".py",
   "mimetype": "text/x-python",
   "name": "python",
   "nbconvert_exporter": "python",
   "pygments_lexer": "ipython3",
   "version": "3.7.7"
  }
 },
 "nbformat": 4,
 "nbformat_minor": 4
}

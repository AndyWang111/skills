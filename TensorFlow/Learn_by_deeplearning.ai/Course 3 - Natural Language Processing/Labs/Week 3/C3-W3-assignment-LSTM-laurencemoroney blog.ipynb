{
 "cells": [
  {
   "cell_type": "code",
   "execution_count": 1,
   "metadata": {},
   "outputs": [],
   "source": [
    "import json\n",
    "import tensorflow as tf\n",
    "import csv\n",
    "import random\n",
    "import numpy as np\n",
    "\n",
    "from tensorflow.keras.preprocessing.text import Tokenizer\n",
    "from tensorflow.keras.preprocessing.sequence import pad_sequences\n",
    "from tensorflow.keras.utils import to_categorical\n",
    "from tensorflow.keras import regularizers\n",
    "\n",
    "\n",
    "embedding_dim = 100\n",
    "max_length = 16\n",
    "trunc_type='post'\n",
    "padding_type='post'\n",
    "oov_tok = \"<OOV>\"\n",
    "training_size=160000\n",
    "test_portion=.1\n",
    "\n",
    "corpus = []"
   ]
  },
  {
   "cell_type": "code",
   "execution_count": 2,
   "metadata": {},
   "outputs": [
    {
     "name": "stdout",
     "output_type": "stream",
     "text": [
      "--2020-07-24 23:12:53--  https://storage.googleapis.com/laurencemoroney-blog.appspot.com/training_cleaned.csv\n",
      "正在解析主机 storage.googleapis.com (storage.googleapis.com)... 34.64.4.16, 34.64.4.80, 34.64.4.112\n",
      "正在连接 storage.googleapis.com (storage.googleapis.com)|34.64.4.16|:443... 已连接。\n",
      "已发出 HTTP 请求，正在等待回应... 200 OK\n",
      "长度：238942690 (228M) [application/octet-stream]\n",
      "正在保存至: “/tmp/training_cleaned.csv”\n",
      "\n",
      "/tmp/training_clean  37%[======>             ]  85.22M  53.9KB/s  用时 2h 38m    \n",
      "\n",
      "2020-07-25 02:22:22 (9.16 KB/s) - 在 89356039/238942690 字节处发生读取错误 (Success)。重试中。\n",
      "\n",
      "--2020-07-25 02:22:23--  (尝试次数： 2)  https://storage.googleapis.com/laurencemoroney-blog.appspot.com/training_cleaned.csv\n",
      "正在连接 storage.googleapis.com (storage.googleapis.com)|34.64.4.16|:443... 已连接。\n",
      "已发出 HTTP 请求，正在等待回应... 206 Partial Content\n",
      "长度：238942690 (228M)，剩余 149586651 (143M) [application/octet-stream]\n",
      "正在保存至: “/tmp/training_cleaned.csv”\n",
      "\n",
      "/tmp/training_clean 100%[+++++++============>] 227.87M   550KB/s  用时 3m 14s    \n",
      "\n",
      "2020-07-25 02:25:40 (754 KB/s) - 已保存 “/tmp/training_cleaned.csv” [238942690/238942690])\n",
      "\n"
     ]
    }
   ],
   "source": [
    "!wget --no-check-certificate \\\n",
    "    https://storage.googleapis.com/laurencemoroney-blog.appspot.com/training_cleaned.csv \\\n",
    "    -O /tmp/training_cleaned.csv\n",
    "\n",
    "num_sentences = 0\n",
    "\n",
    "with open(\"/tmp/training_cleaned.csv\") as csvfile:\n",
    "    reader = csv.reader(csvfile, delimiter=',')\n",
    "    for row in reader:\n",
    "        list_item=[]\n",
    "        list_item.append(row[5])\n",
    "        this_label=row[0]\n",
    "        if this_label=='0':\n",
    "            list_item.append(0)\n",
    "        else:\n",
    "            list_item.append(1)\n",
    "        num_sentences = num_sentences + 1\n",
    "        corpus.append(list_item)"
   ]
  },
  {
   "cell_type": "code",
   "execution_count": 3,
   "metadata": {},
   "outputs": [
    {
     "name": "stdout",
     "output_type": "stream",
     "text": [
      "1600000\n",
      "1600000\n",
      "[\"is upset that he can't update his Facebook by texting it... and might cry as a result  School today also. Blah!\", 0]\n"
     ]
    }
   ],
   "source": [
    "print(num_sentences)\n",
    "print(len(corpus))\n",
    "print(corpus[1])"
   ]
  },
  {
   "cell_type": "code",
   "execution_count": 4,
   "metadata": {},
   "outputs": [],
   "source": [
    "sentences=[]\n",
    "labels=[]\n",
    "random.shuffle(corpus)\n",
    "for x in range(training_size):\n",
    "    sentences.append(corpus[x][0])\n",
    "    labels.append(corpus[x][1])\n",
    "\n",
    "\n",
    "tokenizer = Tokenizer()\n",
    "tokenizer.fit_on_texts(sentences)\n",
    "\n",
    "word_index = tokenizer.word_index\n",
    "vocab_size=len(word_index)\n",
    "\n",
    "sequences = tokenizer.texts_to_sequences(sentences)\n",
    "padded = pad_sequences(sequences, maxlen=max_length, padding=padding_type, truncating=trunc_type)\n",
    "\n",
    "split = int(test_portion * training_size)\n",
    "\n",
    "test_sequences = padded[0:split]\n",
    "training_sequences = padded[split:training_size]\n",
    "test_labels = labels[0:split]\n",
    "training_labels = labels[split:training_size]"
   ]
  },
  {
   "cell_type": "code",
   "execution_count": 5,
   "metadata": {},
   "outputs": [
    {
     "name": "stdout",
     "output_type": "stream",
     "text": [
      "138940\n",
      "1\n"
     ]
    }
   ],
   "source": [
    "print(vocab_size)\n",
    "print(word_index['i'])"
   ]
  },
  {
   "cell_type": "code",
   "execution_count": 6,
   "metadata": {},
   "outputs": [
    {
     "name": "stdout",
     "output_type": "stream",
     "text": [
      "--2020-07-25 02:25:56--  https://storage.googleapis.com/laurencemoroney-blog.appspot.com/glove.6B.100d.txt\n",
      "正在解析主机 storage.googleapis.com (storage.googleapis.com)... 34.64.4.112, 34.64.4.80\n",
      "正在连接 storage.googleapis.com (storage.googleapis.com)|34.64.4.112|:443... 已连接。\n",
      "已发出 HTTP 请求，正在等待回应... 200 OK\n",
      "长度：347116733 (331M) [text/plain]\n",
      "正在保存至: “/tmp/glove.6B.100d.txt”\n",
      "\n",
      "/tmp/glove.6B.100d. 100%[===================>] 331.04M   738KB/s  用时 16m 21s   \n",
      "\n",
      "2020-07-25 02:42:19 (346 KB/s) - 已保存 “/tmp/glove.6B.100d.txt” [347116733/347116733])\n",
      "\n"
     ]
    }
   ],
   "source": [
    "!wget --no-check-certificate \\\n",
    "    https://storage.googleapis.com/laurencemoroney-blog.appspot.com/glove.6B.100d.txt \\\n",
    "    -O /tmp/glove.6B.100d.txt\n",
    "embeddings_index = {};\n",
    "with open('/tmp/glove.6B.100d.txt') as f:\n",
    "    for line in f:\n",
    "        values = line.split();\n",
    "        word = values[0];\n",
    "        coefs = np.asarray(values[1:], dtype='float32');\n",
    "        embeddings_index[word] = coefs;\n",
    "\n",
    "embeddings_matrix = np.zeros((vocab_size+1, embedding_dim));\n",
    "for word, i in word_index.items():\n",
    "    embedding_vector = embeddings_index.get(word);\n",
    "    if embedding_vector is not None:\n",
    "        embeddings_matrix[i] = embedding_vector;"
   ]
  },
  {
   "cell_type": "code",
   "execution_count": 7,
   "metadata": {},
   "outputs": [
    {
     "name": "stdout",
     "output_type": "stream",
     "text": [
      "138941\n"
     ]
    }
   ],
   "source": [
    "print(len(embeddings_matrix))"
   ]
  },
  {
   "cell_type": "code",
   "execution_count": 8,
   "metadata": {},
   "outputs": [
    {
     "name": "stdout",
     "output_type": "stream",
     "text": [
      "Model: \"sequential\"\n",
      "_________________________________________________________________\n",
      "Layer (type)                 Output Shape              Param #   \n",
      "=================================================================\n",
      "embedding (Embedding)        (None, 16, 100)           13894100  \n",
      "_________________________________________________________________\n",
      "dropout (Dropout)            (None, 16, 100)           0         \n",
      "_________________________________________________________________\n",
      "conv1d (Conv1D)              (None, 12, 64)            32064     \n",
      "_________________________________________________________________\n",
      "max_pooling1d (MaxPooling1D) (None, 3, 64)             0         \n",
      "_________________________________________________________________\n",
      "lstm (LSTM)                  (None, 64)                33024     \n",
      "_________________________________________________________________\n",
      "dense (Dense)                (None, 1)                 65        \n",
      "=================================================================\n",
      "Total params: 13,959,253\n",
      "Trainable params: 65,153\n",
      "Non-trainable params: 13,894,100\n",
      "_________________________________________________________________\n",
      "Train on 144000 samples, validate on 16000 samples\n",
      "Epoch 1/50\n",
      "144000/144000 - 14s - loss: 0.5676 - accuracy: 0.6996 - val_loss: 0.5223 - val_accuracy: 0.7387\n",
      "Epoch 2/50\n",
      "144000/144000 - 13s - loss: 0.5257 - accuracy: 0.7333 - val_loss: 0.5119 - val_accuracy: 0.7448\n",
      "Epoch 3/50\n",
      "144000/144000 - 14s - loss: 0.5108 - accuracy: 0.7434 - val_loss: 0.5021 - val_accuracy: 0.7524\n",
      "Epoch 4/50\n",
      "144000/144000 - 15s - loss: 0.4998 - accuracy: 0.7525 - val_loss: 0.4988 - val_accuracy: 0.7542\n",
      "Epoch 5/50\n",
      "144000/144000 - 16s - loss: 0.4903 - accuracy: 0.7581 - val_loss: 0.4979 - val_accuracy: 0.7540\n",
      "Epoch 6/50\n",
      "144000/144000 - 18s - loss: 0.4835 - accuracy: 0.7622 - val_loss: 0.4979 - val_accuracy: 0.7548\n",
      "Epoch 7/50\n",
      "144000/144000 - 16s - loss: 0.4774 - accuracy: 0.7660 - val_loss: 0.4962 - val_accuracy: 0.7565\n",
      "Epoch 8/50\n",
      "144000/144000 - 17s - loss: 0.4731 - accuracy: 0.7696 - val_loss: 0.4991 - val_accuracy: 0.7574\n",
      "Epoch 9/50\n",
      "144000/144000 - 16s - loss: 0.4666 - accuracy: 0.7736 - val_loss: 0.4996 - val_accuracy: 0.7562\n",
      "Epoch 10/50\n",
      "144000/144000 - 16s - loss: 0.4636 - accuracy: 0.7748 - val_loss: 0.4961 - val_accuracy: 0.7557\n",
      "Epoch 11/50\n",
      "144000/144000 - 18s - loss: 0.4590 - accuracy: 0.7780 - val_loss: 0.4989 - val_accuracy: 0.7527\n",
      "Epoch 12/50\n",
      "144000/144000 - 19s - loss: 0.4572 - accuracy: 0.7790 - val_loss: 0.5017 - val_accuracy: 0.7567\n",
      "Epoch 13/50\n",
      "144000/144000 - 18s - loss: 0.4558 - accuracy: 0.7791 - val_loss: 0.5094 - val_accuracy: 0.7529\n",
      "Epoch 14/50\n",
      "144000/144000 - 17s - loss: 0.4515 - accuracy: 0.7815 - val_loss: 0.5008 - val_accuracy: 0.7517\n",
      "Epoch 15/50\n",
      "144000/144000 - 19s - loss: 0.4512 - accuracy: 0.7818 - val_loss: 0.5010 - val_accuracy: 0.7555\n",
      "Epoch 16/50\n",
      "144000/144000 - 19s - loss: 0.4469 - accuracy: 0.7850 - val_loss: 0.5065 - val_accuracy: 0.7541\n",
      "Epoch 17/50\n",
      "144000/144000 - 18s - loss: 0.4459 - accuracy: 0.7860 - val_loss: 0.5018 - val_accuracy: 0.7536\n",
      "Epoch 18/50\n",
      "144000/144000 - 16s - loss: 0.4451 - accuracy: 0.7861 - val_loss: 0.5036 - val_accuracy: 0.7554\n",
      "Epoch 19/50\n",
      "144000/144000 - 15s - loss: 0.4424 - accuracy: 0.7879 - val_loss: 0.5054 - val_accuracy: 0.7523\n",
      "Epoch 20/50\n",
      "144000/144000 - 16s - loss: 0.4405 - accuracy: 0.7896 - val_loss: 0.5109 - val_accuracy: 0.7531\n",
      "Epoch 21/50\n",
      "144000/144000 - 16s - loss: 0.4396 - accuracy: 0.7891 - val_loss: 0.5127 - val_accuracy: 0.7524\n",
      "Epoch 22/50\n",
      "144000/144000 - 20s - loss: 0.4397 - accuracy: 0.7889 - val_loss: 0.5129 - val_accuracy: 0.7536\n",
      "Epoch 23/50\n",
      "144000/144000 - 17s - loss: 0.4363 - accuracy: 0.7909 - val_loss: 0.5106 - val_accuracy: 0.7508\n",
      "Epoch 24/50\n",
      "144000/144000 - 16s - loss: 0.4357 - accuracy: 0.7923 - val_loss: 0.5101 - val_accuracy: 0.7517\n",
      "Epoch 25/50\n",
      "144000/144000 - 18s - loss: 0.4354 - accuracy: 0.7921 - val_loss: 0.5128 - val_accuracy: 0.7531\n",
      "Epoch 26/50\n",
      "144000/144000 - 17s - loss: 0.4342 - accuracy: 0.7949 - val_loss: 0.5100 - val_accuracy: 0.7533\n",
      "Epoch 27/50\n",
      "144000/144000 - 16s - loss: 0.4329 - accuracy: 0.7941 - val_loss: 0.5141 - val_accuracy: 0.7546\n",
      "Epoch 28/50\n",
      "144000/144000 - 16s - loss: 0.4335 - accuracy: 0.7929 - val_loss: 0.5136 - val_accuracy: 0.7511\n",
      "Epoch 29/50\n",
      "144000/144000 - 17s - loss: 0.4318 - accuracy: 0.7952 - val_loss: 0.5233 - val_accuracy: 0.7499\n",
      "Epoch 30/50\n",
      "144000/144000 - 18s - loss: 0.4313 - accuracy: 0.7947 - val_loss: 0.5126 - val_accuracy: 0.7496\n",
      "Epoch 31/50\n",
      "144000/144000 - 18s - loss: 0.4328 - accuracy: 0.7927 - val_loss: 0.5140 - val_accuracy: 0.7526\n",
      "Epoch 32/50\n",
      "144000/144000 - 22s - loss: 0.4280 - accuracy: 0.7962 - val_loss: 0.5129 - val_accuracy: 0.7509\n",
      "Epoch 33/50\n",
      "144000/144000 - 20s - loss: 0.4292 - accuracy: 0.7950 - val_loss: 0.5105 - val_accuracy: 0.7528\n",
      "Epoch 34/50\n",
      "144000/144000 - 15s - loss: 0.4293 - accuracy: 0.7951 - val_loss: 0.5155 - val_accuracy: 0.7499\n",
      "Epoch 35/50\n",
      "144000/144000 - 16s - loss: 0.4286 - accuracy: 0.7967 - val_loss: 0.5109 - val_accuracy: 0.7509\n",
      "Epoch 36/50\n",
      "144000/144000 - 17s - loss: 0.4292 - accuracy: 0.7963 - val_loss: 0.5122 - val_accuracy: 0.7519\n",
      "Epoch 37/50\n",
      "144000/144000 - 23s - loss: 0.4274 - accuracy: 0.7967 - val_loss: 0.5131 - val_accuracy: 0.7509\n",
      "Epoch 38/50\n",
      "144000/144000 - 21s - loss: 0.4267 - accuracy: 0.7974 - val_loss: 0.5122 - val_accuracy: 0.7514\n",
      "Epoch 39/50\n",
      "144000/144000 - 16s - loss: 0.4266 - accuracy: 0.7970 - val_loss: 0.5156 - val_accuracy: 0.7534\n",
      "Epoch 40/50\n",
      "144000/144000 - 29s - loss: 0.4260 - accuracy: 0.7982 - val_loss: 0.5204 - val_accuracy: 0.7491\n",
      "Epoch 41/50\n",
      "144000/144000 - 22s - loss: 0.4256 - accuracy: 0.7985 - val_loss: 0.5235 - val_accuracy: 0.7475\n",
      "Epoch 42/50\n",
      "144000/144000 - 21s - loss: 0.4264 - accuracy: 0.7974 - val_loss: 0.5165 - val_accuracy: 0.7518\n",
      "Epoch 43/50\n",
      "144000/144000 - 18s - loss: 0.4242 - accuracy: 0.7984 - val_loss: 0.5193 - val_accuracy: 0.7504\n",
      "Epoch 44/50\n",
      "144000/144000 - 17s - loss: 0.4250 - accuracy: 0.7987 - val_loss: 0.5200 - val_accuracy: 0.7489\n",
      "Epoch 45/50\n",
      "144000/144000 - 17s - loss: 0.4257 - accuracy: 0.7989 - val_loss: 0.5245 - val_accuracy: 0.7501\n",
      "Epoch 46/50\n",
      "144000/144000 - 17s - loss: 0.4238 - accuracy: 0.7984 - val_loss: 0.5183 - val_accuracy: 0.7509\n",
      "Epoch 47/50\n",
      "144000/144000 - 19s - loss: 0.4238 - accuracy: 0.7990 - val_loss: 0.5150 - val_accuracy: 0.7511\n",
      "Epoch 48/50\n",
      "144000/144000 - 16s - loss: 0.4243 - accuracy: 0.7998 - val_loss: 0.5179 - val_accuracy: 0.7517\n",
      "Epoch 49/50\n",
      "144000/144000 - 22s - loss: 0.4232 - accuracy: 0.7996 - val_loss: 0.5202 - val_accuracy: 0.7483\n",
      "Epoch 50/50\n",
      "144000/144000 - 17s - loss: 0.4222 - accuracy: 0.7996 - val_loss: 0.5243 - val_accuracy: 0.7488\n",
      "Training Complete\n"
     ]
    }
   ],
   "source": [
    "model = tf.keras.Sequential([\n",
    "    tf.keras.layers.Embedding(vocab_size+1, embedding_dim, input_length=max_length, weights=[embeddings_matrix], trainable=False),\n",
    "    tf.keras.layers.Dropout(0.2),\n",
    "    tf.keras.layers.Conv1D(64, 5, activation='relu'),\n",
    "    tf.keras.layers.MaxPooling1D(pool_size=4),\n",
    "    tf.keras.layers.LSTM(64),\n",
    "    tf.keras.layers.Dense(1, activation='sigmoid')\n",
    "])\n",
    "model.compile(loss='binary_crossentropy',optimizer='adam',metrics=['accuracy'])\n",
    "model.summary()\n",
    "\n",
    "num_epochs = 50\n",
    "\n",
    "training_padded = np.array(training_sequences)\n",
    "training_labels = np.array(training_labels)\n",
    "testing_padded = np.array(test_sequences)\n",
    "testing_labels = np.array(test_labels)\n",
    "\n",
    "history = model.fit(training_padded, training_labels, epochs=num_epochs, validation_data=(testing_padded, testing_labels), verbose=2)\n",
    "\n",
    "print(\"Training Complete\")"
   ]
  },
  {
   "cell_type": "code",
   "execution_count": 9,
   "metadata": {},
   "outputs": [
    {
     "data": {
      "text/plain": [
       "<Figure size 432x288 with 0 Axes>"
      ]
     },
     "execution_count": 9,
     "metadata": {},
     "output_type": "execute_result"
    },
    {
     "data": {
      "image/png": "[encoded data removed]",
      "text/plain": [
       "<Figure size 432x288 with 1 Axes>"
      ]
     },
     "metadata": {
      "needs_background": "light"
     },
     "output_type": "display_data"
    },
    {
     "data": {
      "image/png": "[encoded data removed]",
      "text/plain": [
       "<Figure size 432x288 with 1 Axes>"
      ]
     },
     "metadata": {
      "needs_background": "light"
     },
     "output_type": "display_data"
    },
    {
     "data": {
      "text/plain": [
       "<Figure size 432x288 with 0 Axes>"
      ]
     },
     "metadata": {},
     "output_type": "display_data"
    }
   ],
   "source": [
    "import matplotlib.image  as mpimg\n",
    "import matplotlib.pyplot as plt\n",
    "\n",
    "# Retrieve a list of list results on training and test data\n",
    "# sets for each training epoch\n",
    "acc=history.history['accuracy']\n",
    "val_acc=history.history['val_accuracy']\n",
    "loss=history.history['loss']\n",
    "val_loss=history.history['val_loss']\n",
    "\n",
    "epochs=range(len(acc)) # Get number of epochs\n",
    "\n",
    "# Plot training and validation accuracy per epoch\n",
    "plt.plot(epochs, acc, 'r')\n",
    "plt.plot(epochs, val_acc, 'b')\n",
    "plt.title('Training and validation accuracy')\n",
    "plt.xlabel(\"Epochs\")\n",
    "plt.ylabel(\"Accuracy\")\n",
    "plt.legend([\"Accuracy\", \"Validation Accuracy\"])\n",
    "\n",
    "plt.figure()\n",
    "\n",
    "# Plot training and validation loss per epoch\n",
    "plt.plot(epochs, loss, 'r')\n",
    "plt.plot(epochs, val_loss, 'b')\n",
    "plt.title('Training and validation loss')\n",
    "plt.xlabel(\"Epochs\")\n",
    "plt.ylabel(\"Loss\")\n",
    "plt.legend([\"Loss\", \"Validation Loss\"])\n",
    "\n",
    "plt.figure()"
   ]
  },
  {
   "cell_type": "code",
   "execution_count": null,
   "metadata": {},
   "outputs": [],
   "source": []
  }
 ],
 "metadata": {
  "kernelspec": {
   "display_name": "Python 3",
   "language": "python",
   "name": "python3"
  },
  "language_info": {
   "codemirror_mode": {
    "name": "ipython",
    "version": 3
   },
   "file_extension": ".py",
   "mimetype": "text/x-python",
   "name": "python",
   "nbconvert_exporter": "python",
   "pygments_lexer": "ipython3",
   "version": "3.7.7"
  }
 },
 "nbformat": 4,
 "nbformat_minor": 4
}

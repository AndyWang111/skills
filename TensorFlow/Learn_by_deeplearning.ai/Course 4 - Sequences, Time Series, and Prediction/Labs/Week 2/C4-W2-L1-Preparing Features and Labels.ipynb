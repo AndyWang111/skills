{
 "cells": [
  {
   "cell_type": "code",
   "execution_count": 1,
   "metadata": {},
   "outputs": [],
   "source": [
    "import tensorflow as tf\n",
    "import numpy as np\n",
    "import matplotlib.pyplot as plt"
   ]
  },
  {
   "cell_type": "code",
   "execution_count": 2,
   "metadata": {},
   "outputs": [
    {
     "name": "stdout",
     "output_type": "stream",
     "text": [
      "0\n",
      "1\n",
      "2\n",
      "3\n",
      "4\n",
      "5\n",
      "6\n",
      "7\n",
      "8\n",
      "9\n"
     ]
    }
   ],
   "source": [
    "dataset=tf.data.Dataset.range(10)\n",
    "for val in dataset:\n",
    "    print(val.numpy())"
   ]
  },
  {
   "cell_type": "code",
   "execution_count": 3,
   "metadata": {},
   "outputs": [
    {
     "name": "stdout",
     "output_type": "stream",
     "text": [
      "01234\n",
      "12345\n",
      "23456\n",
      "34567\n",
      "45678\n",
      "56789\n",
      "6789\n",
      "789\n",
      "89\n",
      "9\n"
     ]
    }
   ],
   "source": [
    "dataset=tf.data.Dataset.range(10)\n",
    "dataset=dataset.window(5,shift=1)\n",
    "\n",
    "for window_dataset in dataset:\n",
    "    for val in window_dataset:\n",
    "        print(val.numpy(),end='')\n",
    "    print()"
   ]
  },
  {
   "cell_type": "code",
   "execution_count": 4,
   "metadata": {},
   "outputs": [
    {
     "name": "stdout",
     "output_type": "stream",
     "text": [
      "01234\n",
      "12345\n",
      "23456\n",
      "34567\n",
      "45678\n",
      "56789\n"
     ]
    }
   ],
   "source": [
    "dataset=tf.data.Dataset.range(10)\n",
    "dataset=dataset.window(5,shift=1,drop_remainder=True)\n",
    "\n",
    "for window_dataset in dataset:\n",
    "    for val in window_dataset:\n",
    "        print(val.numpy(),end='')\n",
    "    print()"
   ]
  },
  {
   "cell_type": "code",
   "execution_count": 5,
   "metadata": {},
   "outputs": [
    {
     "name": "stdout",
     "output_type": "stream",
     "text": [
      "[0 1 2 3 4]\n",
      "[1 2 3 4 5]\n",
      "[2 3 4 5 6]\n",
      "[3 4 5 6 7]\n",
      "[4 5 6 7 8]\n",
      "[5 6 7 8 9]\n"
     ]
    }
   ],
   "source": [
    "dataset=tf.data.Dataset.range(10)\n",
    "dataset=dataset.window(5,shift=1,drop_remainder=True)\n",
    "dataset=dataset.flat_map(lambda window:window.batch(5))\n",
    "for window in dataset:\n",
    "    print(window.numpy())"
   ]
  },
  {
   "cell_type": "code",
   "execution_count": 6,
   "metadata": {},
   "outputs": [
    {
     "name": "stdout",
     "output_type": "stream",
     "text": [
      "[0 1 2 3] [4]\n",
      "[1 2 3 4] [5]\n",
      "[2 3 4 5] [6]\n",
      "[3 4 5 6] [7]\n",
      "[4 5 6 7] [8]\n",
      "[5 6 7 8] [9]\n"
     ]
    }
   ],
   "source": [
    "dataset=tf.data.Dataset.range(10)\n",
    "dataset=dataset.window(5,shift=1,drop_remainder=True)\n",
    "dataset=dataset.flat_map(lambda window:window.batch(5))\n",
    "dataset=dataset.map(lambda window:(window[:-1],window[-1:]))\n",
    "\n",
    "for x,y in dataset:\n",
    "    print(x.numpy(),y.numpy())"
   ]
  },
  {
   "cell_type": "code",
   "execution_count": 7,
   "metadata": {},
   "outputs": [
    {
     "name": "stdout",
     "output_type": "stream",
     "text": [
      "[3 4 5 6] [7]\n",
      "[0 1 2 3] [4]\n",
      "[2 3 4 5] [6]\n",
      "[5 6 7 8] [9]\n",
      "[1 2 3 4] [5]\n",
      "[4 5 6 7] [8]\n"
     ]
    }
   ],
   "source": [
    "dataset=tf.data.Dataset.range(10)\n",
    "dataset=dataset.window(5,shift=1,drop_remainder=True)\n",
    "dataset=dataset.flat_map(lambda window:window.batch(5))\n",
    "dataset=dataset.map(lambda window:[window[:-1],window[-1:]])\n",
    "dataset=dataset.shuffle(buffer_size=10)\n",
    "\n",
    "for x,y in dataset:\n",
    "    print(x.numpy(),y.numpy())"
   ]
  },
  {
   "cell_type": "code",
   "execution_count": 8,
   "metadata": {},
   "outputs": [
    {
     "name": "stdout",
     "output_type": "stream",
     "text": [
      "WARNING:tensorflow:AutoGraph could not transform <function <lambda> at 0x7f8e00a78f80> and will run it as-is.\n",
      "Cause: could not parse the source code:\n",
      "\n",
      "        .flat_map(lambda window:window.batch(5))\\\n",
      "        .map(lambda window:[window[:-1],window[-1:]])\\\n",
      "        .shuffle(buffer_size=10)\\\n",
      "        .batch(2).prefetch(1)\n",
      "\n",
      "This error may be avoided by creating the lambda in a standalone statement.\n",
      "\n",
      "WARNING: AutoGraph could not transform <function <lambda> at 0x7f8e00a78f80> and will run it as-is.\n",
      "Cause: could not parse the source code:\n",
      "\n",
      "        .flat_map(lambda window:window.batch(5))\\\n",
      "        .map(lambda window:[window[:-1],window[-1:]])\\\n",
      "        .shuffle(buffer_size=10)\\\n",
      "        .batch(2).prefetch(1)\n",
      "\n",
      "This error may be avoided by creating the lambda in a standalone statement.\n",
      "\n",
      "WARNING:tensorflow:AutoGraph could not transform <function <lambda> at 0x7f8e00a78200> and will run it as-is.\n",
      "Cause: could not parse the source code:\n",
      "\n",
      "        .map(lambda window:[window[:-1],window[-1:]])\\\n",
      "        .shuffle(buffer_size=10)\\\n",
      "        .batch(2).prefetch(1)\n",
      "\n",
      "This error may be avoided by creating the lambda in a standalone statement.\n",
      "\n",
      "WARNING: AutoGraph could not transform <function <lambda> at 0x7f8e00a78200> and will run it as-is.\n",
      "Cause: could not parse the source code:\n",
      "\n",
      "        .map(lambda window:[window[:-1],window[-1:]])\\\n",
      "        .shuffle(buffer_size=10)\\\n",
      "        .batch(2).prefetch(1)\n",
      "\n",
      "This error may be avoided by creating the lambda in a standalone statement.\n",
      "\n",
      "x = \n",
      "[[2 3 4 5]\n",
      " [0 1 2 3]] \n",
      " y = \n",
      "[[6]\n",
      " [4]] \n",
      "x = \n",
      "[[3 4 5 6]\n",
      " [5 6 7 8]] \n",
      " y = \n",
      "[[7]\n",
      " [9]] \n",
      "x = \n",
      "[[1 2 3 4]\n",
      " [4 5 6 7]] \n",
      " y = \n",
      "[[5]\n",
      " [8]] \n"
     ]
    }
   ],
   "source": [
    "dataset=tf.data.Dataset.range(10).window(5,shift=1,drop_remainder=True)\\\n",
    "        .flat_map(lambda window:window.batch(5))\\\n",
    "        .map(lambda window:[window[:-1],window[-1:]])\\\n",
    "        .shuffle(buffer_size=10)\\\n",
    "        .batch(2).prefetch(1)\n",
    "\n",
    "for x,y in dataset:\n",
    "    print(\"x = \\n{} \\n y = \\n{} \".format(x.numpy(),y.numpy()))"
   ]
  },
  {
   "cell_type": "code",
   "execution_count": null,
   "metadata": {},
   "outputs": [],
   "source": []
  }
 ],
 "metadata": {
  "kernelspec": {
   "display_name": "Python 3",
   "language": "python",
   "name": "python3"
  },
  "language_info": {
   "codemirror_mode": {
    "name": "ipython",
    "version": 3
   },
   "file_extension": ".py",
   "mimetype": "text/x-python",
   "name": "python",
   "nbconvert_exporter": "python",
   "pygments_lexer": "ipython3",
   "version": "3.7.7"
  }
 },
 "nbformat": 4,
 "nbformat_minor": 4
}
